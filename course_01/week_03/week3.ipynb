{
 "cells": [
  {
   "cell_type": "code",
   "execution_count": 1,
   "metadata": {},
   "outputs": [],
   "source": [
    "import numpy as np\n",
    "from scipy.optimize import minimize, differential_evolution\n",
    "import matplotlib.pyplot as plt\n",
    "%matplotlib inline"
   ]
  },
  {
   "cell_type": "code",
   "execution_count": 2,
   "metadata": {},
   "outputs": [
    {
     "data": {
      "image/png": "[encoded data removed]",
      "text/plain": [
       "<Figure size 432x288 with 1 Axes>"
      ]
     },
     "metadata": {
      "needs_background": "light"
     },
     "output_type": "display_data"
    }
   ],
   "source": [
    "def f(x):\n",
    "    return np.sin(x / 5.0) * np.exp(x / 10.0) + 5 * np.exp(-x / 2.0)\n",
    "\n",
    "x = np.arange(1, 30.01, 0.01)\n",
    "y = f(x)\n",
    "plt.plot(x, y, 'r')\n",
    "plt.title(\"f(x) = sin(x / 5) * exp(x / 10) + 5 * exp(-x / 2)\")\n",
    "plt.show()"
   ]
  },
  {
   "cell_type": "code",
   "execution_count": 3,
   "metadata": {},
   "outputs": [
    {
     "name": "stdout",
     "output_type": "stream",
     "text": [
      "[25.88019339]\n"
     ]
    }
   ],
   "source": [
    "x0 = np.array([30.0])\n",
    "res = minimize(f, x0)\n",
    "print(res.x)"
   ]
  },
  {
   "cell_type": "code",
   "execution_count": 4,
   "metadata": {},
   "outputs": [
    {
     "name": "stdout",
     "output_type": "stream",
     "text": [
      "[4.13627618]\n",
      "1.7452682903449388\n"
     ]
    }
   ],
   "source": [
    "x0 = np.array([2.0])\n",
    "bfgs_xres_1 = minimize(f, x0, method='BFGS')\n",
    "bfgs_res_1 = float(f(bfgs_xres_1.x))\n",
    "print(bfgs_xres_1.x)\n",
    "print(bfgs_res_1)"
   ]
  },
  {
   "cell_type": "code",
   "execution_count": 5,
   "metadata": {},
   "outputs": [
    {
     "name": "stdout",
     "output_type": "stream",
     "text": [
      "[25.88019339]\n",
      "-11.898894665981285\n"
     ]
    }
   ],
   "source": [
    "x0 = np.array([30.0])\n",
    "bfgs_xres_2 = minimize(f, x0, method='BFGS')\n",
    "bfgs_res_2 = float(f(bfgs_xres_2.x))\n",
    "print(bfgs_xres_2.x)\n",
    "print(bfgs_res_2)"
   ]
  },
  {
   "cell_type": "code",
   "execution_count": 6,
   "metadata": {},
   "outputs": [],
   "source": [
    "file = open('submission1.txt', 'w')\n",
    "file.write(f\"{format(bfgs_res_1, '.2f')} {format(bfgs_res_2, '.2f')}\")\n",
    "file.close()"
   ]
  },
  {
   "cell_type": "code",
   "execution_count": 7,
   "metadata": {},
   "outputs": [
    {
     "data": {
      "text/plain": [
       "(array([25.88019796]), array([-11.89889467]))"
      ]
     },
     "execution_count": 7,
     "metadata": {},
     "output_type": "execute_result"
    }
   ],
   "source": [
    "bounds = [(1,30)]\n",
    "result = differential_evolution(f, bounds)\n",
    "result.x, result.fun"
   ]
  },
  {
   "cell_type": "code",
   "execution_count": 8,
   "metadata": {},
   "outputs": [],
   "source": [
    "file = open('submission2.txt', 'w')\n",
    "file.write(f\"{format(float(result.fun), '.2f')}\")\n",
    "file.close()"
   ]
  },
  {
   "cell_type": "code",
   "execution_count": 9,
   "metadata": {},
   "outputs": [
    {
     "data": {
      "image/png": "[encoded data removed]",
      "text/plain": [
       "<Figure size 432x288 with 1 Axes>"
      ]
     },
     "metadata": {
      "needs_background": "light"
     },
     "output_type": "display_data"
    }
   ],
   "source": [
    "def h(x):\n",
    "    value = np.sin(x / 5.0) * np.exp(x / 10.0) + 5 * np.exp(-x / 2.0)\n",
    "    return int(value)\n",
    "\n",
    "y = np.array([h(val) for val in x])\n",
    "plt.plot(x, y, 'b')\n",
    "plt.title(\"h(x)\")\n",
    "plt.show()"
   ]
  },
  {
   "cell_type": "code",
   "execution_count": 10,
   "metadata": {},
   "outputs": [
    {
     "name": "stdout",
     "output_type": "stream",
     "text": [
      "[30.]\n",
      "-5\n"
     ]
    }
   ],
   "source": [
    "x0 = np.array([30.0])\n",
    "bfgs_x = minimize(h, x0, method='BFGS')\n",
    "bfgs_hres = h(bfgs_x.x)\n",
    "print(bfgs_x.x)\n",
    "print(bfgs_hres)"
   ]
  },
  {
   "cell_type": "code",
   "execution_count": 11,
   "metadata": {},
   "outputs": [
    {
     "name": "stdout",
     "output_type": "stream",
     "text": [
      "[26.22324765]\n",
      "-11.0\n",
      "-11\n"
     ]
    }
   ],
   "source": [
    "bounds = [(1,30)]\n",
    "result = differential_evolution(h, bounds)\n",
    "print(result.x)\n",
    "print(result.fun)\n",
    "evol_result = h(result.x)\n",
    "print(evol_result)"
   ]
  },
  {
   "cell_type": "code",
   "execution_count": 12,
   "metadata": {},
   "outputs": [],
   "source": [
    "file = open('submission3.txt', 'w')\n",
    "file.write(f\"{format(bfgs_hres, '.2f')} {format(result.fun, '.2f')}\")\n",
    "file.close()"
   ]
  }
 ],
 "metadata": {
  "kernelspec": {
   "display_name": "Python 3",
   "language": "python",
   "name": "python3"
  },
  "language_info": {
   "codemirror_mode": {
    "name": "ipython",
    "version": 3
   },
   "file_extension": ".py",
   "mimetype": "text/x-python",
   "name": "python",
   "nbconvert_exporter": "python",
   "pygments_lexer": "ipython3",
   "version": "3.6.9"
  }
 },
 "nbformat": 4,
 "nbformat_minor": 2
}
