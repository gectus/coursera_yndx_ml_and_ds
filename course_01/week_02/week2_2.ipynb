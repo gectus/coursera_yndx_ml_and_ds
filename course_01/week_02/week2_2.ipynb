{
 "cells": [
  {
   "cell_type": "markdown",
   "metadata": {},
   "source": [
    "## Задача 2: Аппроксимация функции\n",
    "\n",
    "### Рассмотрим сложную математическую функцию на отрезке [1, 15]:\n",
    "\n",
    "$f(x) = sin(x / 5) * exp(x / 10) + 5 * exp(-x / 2)$"
   ]
  },
  {
   "cell_type": "code",
   "execution_count": 16,
   "metadata": {},
   "outputs": [],
   "source": [
    "import numpy as np\n",
    "import scipy.linalg\n",
    "import matplotlib.pyplot as plt\n",
    "%matplotlib inline"
   ]
  },
  {
   "cell_type": "code",
   "execution_count": 12,
   "metadata": {},
   "outputs": [
    {
     "name": "stdout",
     "output_type": "stream",
     "text": [
      "Значения функции в точках 1 и 15: 3.252216865271419, 0.6352214195786656\n"
     ]
    }
   ],
   "source": [
    "f_1 = np.sin(1 / 5.0) * np.exp(1 / 10.0) + 5 * np.exp(-1 / 2.0)\n",
    "f_15 = np.sin(15 / 5.0) * np.exp(15 / 10.0) + 5 * np.exp(-15 / 2.0)\n",
    "print(f\"Значения функции в точках 1 и 15: {f_1}, {f_15}\")"
   ]
  },
  {
   "cell_type": "code",
   "execution_count": 17,
   "metadata": {},
   "outputs": [
    {
     "name": "stdout",
     "output_type": "stream",
     "text": [
      "[[ 1  1]\n",
      " [ 1 15]]\n",
      "[3.25221687 0.63522142]\n",
      "[ 3.43914511 -0.18692825]\n"
     ]
    }
   ],
   "source": [
    "A = np.array([[1, 1], [1, 15]])\n",
    "b = np.array([f_1, f_15])\n",
    "print(A)\n",
    "print(b)\n",
    "x = scipy.linalg.solve(A, b)\n",
    "print(x)"
   ]
  },
  {
   "cell_type": "code",
   "execution_count": 19,
   "metadata": {},
   "outputs": [
    {
     "data": {
      "image/png": "[encoded data removed]",
      "text/plain": [
       "<Figure size 432x288 with 1 Axes>"
      ]
     },
     "metadata": {
      "needs_background": "light"
     },
     "output_type": "display_data"
    }
   ],
   "source": [
    "x_axis = np.arange(0, 16, 0.1)\n",
    "y = x[0] + x[1] * x_axis\n",
    "plt.plot(x_axis,y, 'b')\n",
    "plt.show()"
   ]
  },
  {
   "cell_type": "code",
   "execution_count": 10,
   "metadata": {},
   "outputs": [
    {
     "data": {
      "image/png": "[encoded data removed]",
      "text/plain": [
       "<Figure size 432x288 with 1 Axes>"
      ]
     },
     "metadata": {
      "needs_background": "light"
     },
     "output_type": "display_data"
    }
   ],
   "source": [
    "x_axis = np.arange(0, 16, 0.1)\n",
    "y = np.sin(x_axis / 5.0) * np.exp(x_axis / 10.0) + 5 * np.exp(-x_axis / 2.0)\n",
    "plt.plot(x_axis,y, 'b')\n",
    "plt.show()"
   ]
  },
  {
   "cell_type": "code",
   "execution_count": 20,
   "metadata": {},
   "outputs": [
    {
     "name": "stdout",
     "output_type": "stream",
     "text": [
      "Значения функции в точках 1, 4, 10 и 15: 3.252216865271419, 1.7468459495903677, 2.5054164070002463, 0.6352214195786656\n"
     ]
    }
   ],
   "source": [
    "f_1 = np.sin(1 / 5.0) * np.exp(1 / 10.0) + 5 * np.exp(-1 / 2.0)\n",
    "f_4 = np.sin(4 / 5.0) * np.exp(4 / 10.0) + 5 * np.exp(-4 / 2.0)\n",
    "f_10 = np.sin(10 / 5.0) * np.exp(10 / 10.0) + 5 * np.exp(-10 / 2.0)\n",
    "f_15 = np.sin(15 / 5.0) * np.exp(15 / 10.0) + 5 * np.exp(-15 / 2.0)\n",
    "print(f\"Значения функции в точках 1, 4, 10 и 15: {f_1}, {f_4}, {f_10}, {f_15}\")"
   ]
  },
  {
   "cell_type": "code",
   "execution_count": 31,
   "metadata": {},
   "outputs": [
    {
     "name": "stdout",
     "output_type": "stream",
     "text": [
      "[[   1    1    1    1]\n",
      " [   1    4   16   64]\n",
      " [   1   10  100 1000]\n",
      " [   1   15  225 3375]]\n",
      "[3.25221687 1.74684595 2.50541641 0.63522142]\n",
      "[ 4.36264154 -1.29552587  0.19333685 -0.00823565]\n"
     ]
    }
   ],
   "source": [
    "A = np.array([[1, 1, 1, 1], [1, 4, 16, 64], [1, 10, 100, 1000], [1, 15, 225, 3375]])\n",
    "b = np.array([f_1, f_4, f_10, f_15])\n",
    "print(A)\n",
    "print(b)\n",
    "x = scipy.linalg.solve(A, b)\n",
    "print(x)"
   ]
  },
  {
   "cell_type": "code",
   "execution_count": 32,
   "metadata": {},
   "outputs": [
    {
     "data": {
      "image/png": "[encoded data removed]",
      "text/plain": [
       "<Figure size 432x288 with 1 Axes>"
      ]
     },
     "metadata": {
      "needs_background": "light"
     },
     "output_type": "display_data"
    }
   ],
   "source": [
    "x_axis = np.arange(0, 16, 0.1)\n",
    "y = x[0] + x[1] * x_axis + x[2] * x_axis ** 2 + x[3] * x_axis ** 3\n",
    "plt.plot(x_axis,y, 'b')\n",
    "plt.show()"
   ]
  },
  {
   "cell_type": "code",
   "execution_count": 33,
   "metadata": {},
   "outputs": [],
   "source": [
    "def convert(x):\n",
    "    return float('{:.2f}'.format(x))\n",
    "\n",
    "f = open('submission-2.txt', 'w')\n",
    "f.write(f\"{convert(x[0])} {convert(x[1])} {convert(x[2])} {convert(x[3])}\")\n",
    "f.close()"
   ]
  }
 ],
 "metadata": {
  "kernelspec": {
   "display_name": "Python 3",
   "language": "python",
   "name": "python3"
  },
  "language_info": {
   "codemirror_mode": {
    "name": "ipython",
    "version": 3
   },
   "file_extension": ".py",
   "mimetype": "text/x-python",
   "name": "python",
   "nbconvert_exporter": "python",
   "pygments_lexer": "ipython3",
   "version": "3.6.9"
  }
 },
 "nbformat": 4,
 "nbformat_minor": 2
}
