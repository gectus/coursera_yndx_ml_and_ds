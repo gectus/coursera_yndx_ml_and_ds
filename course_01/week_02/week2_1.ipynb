{
 "cells": [
  {
   "cell_type": "markdown",
   "metadata": {},
   "source": [
    "## Задача 1: Сравнение предложений\n",
    "\n",
    "### Дан набор предложений, скопированных с Википедии. Каждое из них имеет \"кошачью тему\" в одном из трех смыслов:\n",
    "\n",
    "    кошки (животные)\n",
    "    UNIX-утилита cat для вывода содержимого файлов\n",
    "    версии операционной системы OS X, названные в честь семейства кошачьих\n",
    "\n",
    "### Ваша задача — найти два предложения, которые ближе всего по смыслу к расположенному в самой первой строке. В качестве меры близости по смыслу мы будем использовать косинусное расстояние."
   ]
  },
  {
   "cell_type": "code",
   "execution_count": 1,
   "metadata": {},
   "outputs": [],
   "source": [
    "import numpy as np\n",
    "import scipy.spatial\n",
    "import re"
   ]
  },
  {
   "cell_type": "markdown",
   "metadata": {},
   "source": [
    "### 1. Считать файл с предложениями, и привести каждое к нижнему регистру с помощью строковой функции <code>lower()</code>."
   ]
  },
  {
   "cell_type": "code",
   "execution_count": 2,
   "metadata": {},
   "outputs": [
    {
     "name": "stdout",
     "output_type": "stream",
     "text": [
      "22 sentences in the array\n",
      "['in comparison to dogs, cats have not undergone major changes during the domestication process.', 'as cat simply catenates streams of bytes, it can be also used to concatenate binary files, where it will just concatenate sequence of bytes.', 'a common interactive use of cat for a single file is to output the content of a file to standard output.', 'cats can hear sounds too faint or too high in frequency for human ears, such as those made by mice and other small animals.', 'in one, people deliberately tamed cats in a process of artificial selection, as they were useful predators of vermin.', 'the domesticated cat and its closest wild ancestor are both diploid organisms that possess 38 chromosomes and roughly 20,000 genes.', 'domestic cats are similar in size to the other members of the genus felis, typically weighing between 4 and 5 kg (8.8 and 11.0 lb).', 'however, if the output is piped or redirected, cat is unnecessary.', 'cat with one named file is safer where human error is a concern - one wrong use of the default redirection symbol \">\" instead of \"<\" (often adjacent on keyboards) may permanently delete the file you were just needing to read.', 'in terms of legibility, a sequence of commands starting with cat and connected by pipes has a clear left-to-right flow of information.', 'cat command is one of the basic commands that you learned when you started in the unix / linux world.', 'using cat command, the lines received from stdin can be redirected to a new file using redirection symbols.', 'when you type simply cat command without any arguments, it just receives the stdin content and displays it in the stdout.', 'leopard was released on october 26, 2007 as the successor of tiger (version 10.4), and is available in two editions.', 'according to apple, leopard contains over 300 changes and enhancements over its predecessor, mac os x tiger.', 'as of mid 2010, some apple computers have firmware factory installed which will no longer allow installation of mac os x leopard.', 'since apple moved to using intel processors in their computers, the osx86 community has developed and now also allows mac os x tiger and later releases to be installed on non-apple x86-based computers.', \"os x mountain lion was released on july 25, 2012 for purchase and download through apple's mac app store, as part of a switch to releasing os x versions online and every year.\", 'apple has released a small patch for the three most recent versions of safari running on os x yosemite, mavericks, and mountain lion.', 'the mountain lion release marks the second time apple has offered an incremental upgrade, rather than releasing a new cat entirely.', \"mac os x mountain lion installs in place, so you won't need to create a separate disk or run the installation off an external drive.\", \"the fifth major update to mac os x, leopard, contains such a mountain of features - more than 300 by apple's count.\"]\n"
     ]
    }
   ],
   "source": [
    "with open(\"sentences1.txt\") as f:\n",
    "    content = f.readlines()\n",
    "content = [x.strip().lower() for x in content]\n",
    "sentences = content\n",
    "print(len(content), \"sentences in the array\")\n",
    "print(content)"
   ]
  },
  {
   "cell_type": "markdown",
   "metadata": {},
   "source": [
    "### 2. Произвести токенизацию, то есть разбиение текстов на слова. Для этого можно воспользоваться регулярным выражением, которое считает разделителем любой символ, не являющийся буквой: <code>re.split('[^a-z]', t)</code> Удалить пустые слова после разделения."
   ]
  },
  {
   "cell_type": "code",
   "execution_count": 3,
   "metadata": {},
   "outputs": [
    {
     "name": "stdout",
     "output_type": "stream",
     "text": [
      "[['in', 'comparison', 'to', 'dogs', 'cats', 'have', 'not', 'undergone', 'major', 'changes', 'during', 'the', 'domestication', 'process'], ['as', 'cat', 'simply', 'catenates', 'streams', 'of', 'bytes', 'it', 'can', 'be', 'also', 'used', 'to', 'concatenate', 'binary', 'files', 'where', 'it', 'will', 'just', 'concatenate', 'sequence', 'of', 'bytes'], ['a', 'common', 'interactive', 'use', 'of', 'cat', 'for', 'a', 'single', 'file', 'is', 'to', 'output', 'the', 'content', 'of', 'a', 'file', 'to', 'standard', 'output'], ['cats', 'can', 'hear', 'sounds', 'too', 'faint', 'or', 'too', 'high', 'in', 'frequency', 'for', 'human', 'ears', 'such', 'as', 'those', 'made', 'by', 'mice', 'and', 'other', 'small', 'animals'], ['in', 'one', 'people', 'deliberately', 'tamed', 'cats', 'in', 'a', 'process', 'of', 'artificial', 'selection', 'as', 'they', 'were', 'useful', 'predators', 'of', 'vermin'], ['the', 'domesticated', 'cat', 'and', 'its', 'closest', 'wild', 'ancestor', 'are', 'both', 'diploid', 'organisms', 'that', 'possess', 'chromosomes', 'and', 'roughly', 'genes'], ['domestic', 'cats', 'are', 'similar', 'in', 'size', 'to', 'the', 'other', 'members', 'of', 'the', 'genus', 'felis', 'typically', 'weighing', 'between', 'and', 'kg', 'and', 'lb'], ['however', 'if', 'the', 'output', 'is', 'piped', 'or', 'redirected', 'cat', 'is', 'unnecessary'], ['cat', 'with', 'one', 'named', 'file', 'is', 'safer', 'where', 'human', 'error', 'is', 'a', 'concern', 'one', 'wrong', 'use', 'of', 'the', 'default', 'redirection', 'symbol', 'instead', 'of', 'often', 'adjacent', 'on', 'keyboards', 'may', 'permanently', 'delete', 'the', 'file', 'you', 'were', 'just', 'needing', 'to', 'read'], ['in', 'terms', 'of', 'legibility', 'a', 'sequence', 'of', 'commands', 'starting', 'with', 'cat', 'and', 'connected', 'by', 'pipes', 'has', 'a', 'clear', 'left', 'to', 'right', 'flow', 'of', 'information'], ['cat', 'command', 'is', 'one', 'of', 'the', 'basic', 'commands', 'that', 'you', 'learned', 'when', 'you', 'started', 'in', 'the', 'unix', 'linux', 'world'], ['using', 'cat', 'command', 'the', 'lines', 'received', 'from', 'stdin', 'can', 'be', 'redirected', 'to', 'a', 'new', 'file', 'using', 'redirection', 'symbols'], ['when', 'you', 'type', 'simply', 'cat', 'command', 'without', 'any', 'arguments', 'it', 'just', 'receives', 'the', 'stdin', 'content', 'and', 'displays', 'it', 'in', 'the', 'stdout'], ['leopard', 'was', 'released', 'on', 'october', 'as', 'the', 'successor', 'of', 'tiger', 'version', 'and', 'is', 'available', 'in', 'two', 'editions'], ['according', 'to', 'apple', 'leopard', 'contains', 'over', 'changes', 'and', 'enhancements', 'over', 'its', 'predecessor', 'mac', 'os', 'x', 'tiger'], ['as', 'of', 'mid', 'some', 'apple', 'computers', 'have', 'firmware', 'factory', 'installed', 'which', 'will', 'no', 'longer', 'allow', 'installation', 'of', 'mac', 'os', 'x', 'leopard'], ['since', 'apple', 'moved', 'to', 'using', 'intel', 'processors', 'in', 'their', 'computers', 'the', 'osx', 'community', 'has', 'developed', 'and', 'now', 'also', 'allows', 'mac', 'os', 'x', 'tiger', 'and', 'later', 'releases', 'to', 'be', 'installed', 'on', 'non', 'apple', 'x', 'based', 'computers'], ['os', 'x', 'mountain', 'lion', 'was', 'released', 'on', 'july', 'for', 'purchase', 'and', 'download', 'through', 'apple', 's', 'mac', 'app', 'store', 'as', 'part', 'of', 'a', 'switch', 'to', 'releasing', 'os', 'x', 'versions', 'online', 'and', 'every', 'year'], ['apple', 'has', 'released', 'a', 'small', 'patch', 'for', 'the', 'three', 'most', 'recent', 'versions', 'of', 'safari', 'running', 'on', 'os', 'x', 'yosemite', 'mavericks', 'and', 'mountain', 'lion'], ['the', 'mountain', 'lion', 'release', 'marks', 'the', 'second', 'time', 'apple', 'has', 'offered', 'an', 'incremental', 'upgrade', 'rather', 'than', 'releasing', 'a', 'new', 'cat', 'entirely'], ['mac', 'os', 'x', 'mountain', 'lion', 'installs', 'in', 'place', 'so', 'you', 'won', 't', 'need', 'to', 'create', 'a', 'separate', 'disk', 'or', 'run', 'the', 'installation', 'off', 'an', 'external', 'drive'], ['the', 'fifth', 'major', 'update', 'to', 'mac', 'os', 'x', 'leopard', 'contains', 'such', 'a', 'mountain', 'of', 'features', 'more', 'than', 'by', 'apple', 's', 'count']]\n"
     ]
    }
   ],
   "source": [
    "for index, item in enumerate(content):\n",
    "    content[index] = [word for word in re.split('[^a-z]', item) if word]\n",
    "print(content)"
   ]
  },
  {
   "cell_type": "markdown",
   "metadata": {},
   "source": [
    "### 3. Составить список всех слов, встречающихся в предложениях. Сопоставить каждому слову индекс от нуля до $(d - 1)$, где $d$ — число различных слов в предложениях. Для этого  воспользоваться структурой <b>dict</b>."
   ]
  },
  {
   "cell_type": "code",
   "execution_count": 4,
   "metadata": {},
   "outputs": [],
   "source": [
    "words = list(set(sum(content, [])))"
   ]
  },
  {
   "cell_type": "code",
   "execution_count": 5,
   "metadata": {},
   "outputs": [
    {
     "name": "stdout",
     "output_type": "stream",
     "text": [
      "{0: 'chromosomes', 1: 'over', 2: 'binary', 3: 'instead', 4: 'os', 5: 'file', 6: 'made', 7: 'since', 8: 'human', 9: 'domestic', 10: 'for', 11: 's', 12: 'catenates', 13: 'features', 14: 'computers', 15: 'safer', 16: 't', 17: 'installation', 18: 'of', 19: 'unix', 20: 'releases', 21: 'simply', 22: 'through', 23: 'one', 24: 'domesticated', 25: 'safari', 26: 'their', 27: 'bytes', 28: 'so', 29: 'just', 30: 'x', 31: 'use', 32: 'new', 33: 'cats', 34: 'streams', 35: 'basic', 36: 'be', 37: 'stdin', 38: 'delete', 39: 'without', 40: 'diploid', 41: 'content', 42: 'useful', 43: 'create', 44: 'predecessor', 45: 'roughly', 46: 'ancestor', 47: 'members', 48: 'redirection', 49: 'read', 50: 'receives', 51: 'too', 52: 'keyboards', 53: 'by', 54: 'separate', 55: 'fifth', 56: 'type', 57: 'stdout', 58: 'closest', 59: 'possess', 60: 'yosemite', 61: 'information', 62: 'kg', 63: 'right', 64: 'mid', 65: 'osx', 66: 'allows', 67: 'according', 68: 'most', 69: 'offered', 70: 'disk', 71: 'changes', 72: 'a', 73: 'releasing', 74: 'mavericks', 75: 'faint', 76: 'those', 77: 'has', 78: 'was', 79: 'or', 80: 'people', 81: 'hear', 82: 'ears', 83: 'single', 84: 'upgrade', 85: 'both', 86: 'its', 87: 'enhancements', 88: 'however', 89: 'versions', 90: 'online', 91: 'learned', 92: 'longer', 93: 'running', 94: 'needing', 95: 'version', 96: 'three', 97: 'external', 98: 'july', 99: 'often', 100: 'received', 101: 'may', 102: 'allow', 103: 'linux', 104: 'every', 105: 'recent', 106: 'sounds', 107: 'developed', 108: 'lines', 109: 'second', 110: 'lion', 111: 'community', 112: 'displays', 113: 'patch', 114: 'genes', 115: 'dogs', 116: 'files', 117: 'such', 118: 'run', 119: 'released', 120: 'than', 121: 'need', 122: 'to', 123: 'between', 124: 'arguments', 125: 'part', 126: 'legibility', 127: 'intel', 128: 'cat', 129: 'piped', 130: 'based', 131: 'firmware', 132: 'domestication', 133: 'later', 134: 'download', 135: 'release', 136: 'year', 137: 'permanently', 138: 'tiger', 139: 'place', 140: 'now', 141: 'used', 142: 'with', 143: 'october', 144: 'are', 145: 'mice', 146: 'symbol', 147: 'two', 148: 'starting', 149: 'pipes', 150: 'it', 151: 'switch', 152: 'leopard', 153: 'named', 154: 'world', 155: 'size', 156: 'typically', 157: 'default', 158: 'adjacent', 159: 'more', 160: 'entirely', 161: 'clear', 162: 'rather', 163: 'interactive', 164: 'non', 165: 'genus', 166: 'organisms', 167: 'lb', 168: 'command', 169: 'deliberately', 170: 'during', 171: 'unnecessary', 172: 'wrong', 173: 'major', 174: 'apple', 175: 'mac', 176: 'using', 177: 'is', 178: 'standard', 179: 'flow', 180: 'commands', 181: 'available', 182: 'some', 183: 'update', 184: 'animals', 185: 'vermin', 186: 'marks', 187: 'which', 188: 'purchase', 189: 'undergone', 190: 'editions', 191: 'when', 192: 'contains', 193: 'can', 194: 'and', 195: 'app', 196: 'small', 197: 'off', 198: 'as', 199: 'the', 200: 'concatenate', 201: 'sequence', 202: 'store', 203: 'processors', 204: 'an', 205: 'felis', 206: 'count', 207: 'wild', 208: 'if', 209: 'installed', 210: 'moved', 211: 'factory', 212: 'successor', 213: 'frequency', 214: 'symbols', 215: 'left', 216: 'selection', 217: 'you', 218: 'process', 219: 'output', 220: 'also', 221: 'tamed', 222: 'terms', 223: 'common', 224: 'that', 225: 'concern', 226: 'other', 227: 'were', 228: 'similar', 229: 'from', 230: 'mountain', 231: 'incremental', 232: 'drive', 233: 'time', 234: 'no', 235: 'will', 236: 'not', 237: 'artificial', 238: 'weighing', 239: 'connected', 240: 'comparison', 241: 'high', 242: 'they', 243: 'won', 244: 'started', 245: 'error', 246: 'have', 247: 'in', 248: 'predators', 249: 'on', 250: 'any', 251: 'redirected', 252: 'installs', 253: 'where'}\n"
     ]
    }
   ],
   "source": [
    "words = {index: word for index, word in enumerate(words)}\n",
    "print(words)"
   ]
  },
  {
   "cell_type": "markdown",
   "metadata": {},
   "source": [
    "### 4. Создать матрицу размера $n * d$, где $n$ — число предложений. Заполнить ее: элемент с индексом $(i, j)$ в этой матрице должен быть равен количеству вхождений $j$-го слова в $i$-е предложение. Должна получиться матрица размера 22 * 254. \n",
    "\n",
    "### Найти косинусное расстояние от предложения в самой первой строке (In comparison to dogs, cats have not undergone...) до всех остальных с помощью функции <code>scipy.spatial.distance.cosine</code>. Какие номера у двух предложений, ближайших к нему по этому расстоянию (строки нумеруются с нуля)? Эти два числа и будут ответами на задание. Само предложение (In comparison to dogs, cats have not undergone... ) имеет индекс 0. "
   ]
  },
  {
   "cell_type": "code",
   "execution_count": 6,
   "metadata": {},
   "outputs": [
    {
     "name": "stdout",
     "output_type": "stream",
     "text": [
      "(22, 254)\n",
      "{6: 0.7327387580875756, 4: 0.7770887149698589, 21: 0.8250364469440586, 10: 0.8328165362273942, 12: 0.8396432548525454, 16: 0.8406361854220809, 20: 0.8427572744917122, 2: 0.8644738145642124, 13: 0.8703592552895671, 14: 0.8740118423302576, 11: 0.8804771390665607, 8: 0.884272487528431, 19: 0.8885443574849294, 3: 0.8951715163278082, 9: 0.9055088817476932, 7: 0.9258750683338899, 5: 0.9402385695332803, 15: 0.9442721787424647, 18: 0.9442721787424647, 1: 0.9527544408738466, 17: 0.956644501523794}\n"
     ]
    }
   ],
   "source": [
    "matrix = np.array([[sentence.count(words[j]) for j in words] for i, sentence in enumerate(sentences)])\n",
    "print(matrix.shape)\n",
    "\n",
    "dists = scipy.spatial.distance.cdist(matrix[0:1], matrix[1:], metric='cosine').flatten().tolist()\n",
    "answer = {index + 1 : value for index, value in enumerate(dists)}\n",
    "answer = dict(sorted(answer.items(), key=lambda x: x[1]))\n",
    "print(answer)"
   ]
  },
  {
   "cell_type": "markdown",
   "metadata": {},
   "source": [
    "### 5. Записать полученные числа в файл, разделив пробелом. Файл должен состоять из одной строки, в конце которой не должно быть переноса."
   ]
  },
  {
   "cell_type": "code",
   "execution_count": 7,
   "metadata": {},
   "outputs": [
    {
     "name": "stdout",
     "output_type": "stream",
     "text": [
      "[6, 4]\n"
     ]
    }
   ],
   "source": [
    "answer_values = list(answer.keys())[0:2]\n",
    "print(answer_values)"
   ]
  },
  {
   "cell_type": "code",
   "execution_count": 8,
   "metadata": {},
   "outputs": [],
   "source": [
    "f = open('submission-1.txt', 'w')\n",
    "f.write(f\"{answer_values[0]} {answer_values[1]}\")\n",
    "f.close()"
   ]
  }
 ],
 "metadata": {
  "kernelspec": {
   "display_name": "Python 3",
   "language": "python",
   "name": "python3"
  },
  "language_info": {
   "codemirror_mode": {
    "name": "ipython",
    "version": 3
   },
   "file_extension": ".py",
   "mimetype": "text/x-python",
   "name": "python",
   "nbconvert_exporter": "python",
   "pygments_lexer": "ipython3",
   "version": "3.6.9"
  }
 },
 "nbformat": 4,
 "nbformat_minor": 2
}
