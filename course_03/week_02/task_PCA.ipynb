{
 "cells": [
  {
   "cell_type": "markdown",
   "metadata": {},
   "source": [
    "# Метод главных компонент\n",
    "\n",
    "В данном задании вам будет предложено ознакомиться с подходом, который переоткрывался в самых разных областях, имеет множество разных интерпретаций, а также несколько интересных обобщений: методом главных компонент (principal component analysis)."
   ]
  },
  {
   "cell_type": "markdown",
   "metadata": {},
   "source": [
    "## Programming assignment\n",
    "\n",
    "Задание разбито на две части: \n",
    "- работа с модельными данными,\n",
    "- работа с реальными данными.\n",
    "\n",
    "В конце каждого пункта от вас требуется получить ответ и загрузить в соответствующую форму в виде набора текстовых файлов."
   ]
  },
  {
   "cell_type": "code",
   "execution_count": 1,
   "metadata": {},
   "outputs": [],
   "source": [
    "import numpy as np\n",
    "import pandas as pd\n",
    "\n",
    "import matplotlib\n",
    "from matplotlib import pyplot as plt\n",
    "import matplotlib.patches as mpatches\n",
    "\n",
    "matplotlib.style.use('ggplot')\n",
    "%matplotlib inline"
   ]
  },
  {
   "cell_type": "markdown",
   "metadata": {},
   "source": [
    "## Теория\n",
    "\n",
    "Любой набор данных представляет собой матрицу $X$.\n",
    "\n",
    "Метод главных компонент последовательно находит следующие линейные комбинации признаков (компоненты) из $X$:\n",
    "- каждая компонента ортогональна всем остальным и нормированна: $<w_i, w_j> = 0, \\quad ||w_i||=1$,\n",
    "- каждая компонента описывает максимально возможную дисперсию данных (с учётом предыдущего ограничения).\n",
    "\n",
    "Предположения, в рамках которых данный подход будет работать хорошо:\n",
    "- линейность компонент: мы предполагаем, что данные можно анализировать линейными методами,\n",
    "- большие дисперсии важны: предполагается, что наиболее важны те направления в данных, вдоль которых они имеют наибольшую дисперсию,\n",
    "- все компоненты ортогональны: это предположение позволяет проводить анализ главных компонент при помощи техник линейной алгебры (например, сингулярное разложение матрицы $X$ или спектральное разложение матрицы $X^TX$).\n",
    "\n",
    "Как это выглядит математически?\n",
    "\n",
    "Обозначим следующим образом выборочную матрицу ковариации данных: $\\hat{C} \\propto Q = X^TX$. ($Q$ отличается от $\\hat{C}$ нормировкой на число объектов).\n",
    "\n",
    "Сингулярное разложение матрицы $Q$ выглядит следующим образом:\n",
    "\n",
    "$$Q = X^TX = W \\Lambda W^T$$\n",
    "\n",
    "Можно строго показать, что столбцы матрицы $W$ являются главными компонентами матрицы $X$, т.е. комбинациями признаков, удовлетворяющих двум условиям, указанным в начале. При этом дисперсия данных вдоль направления, заданного каждой компонентой, равна соответствующему значению диагональной матрицы $\\Lambda$.\n",
    "\n",
    "Как же на основании этого преобразования производить уменьшение размерности? Мы можем отранжировать компоненты, используя значения дисперсий данных вдоль них.\n",
    "\n",
    "Сделаем это: $\\lambda_{(1)} > \\lambda_{(2)} > \\dots > \\lambda_{(D)}$.\n",
    "\n",
    "Тогда, если мы выберем компоненты, соответствующие первым $d$ дисперсиям из этого списка, мы получим набор из $d$ новых признаков, которые наилучшим образом описывают дисперсию изначального набора данных среди всех других возможных линейных комбинаций исходных признаков матрицы $X$. \n",
    "- Если $d=D$, то мы вообще не теряем никакой информации.\n",
    "- Если $d<D$, то мы теряем информацию, которая, при справедливости указанных выше предположений, будет пропорциональна сумме дисперсий отброшенных компонент.\n",
    "\n",
    "Получается, что метод главных компонент позволяет нам ранжировать полученные компоненты по \"значимости\", а также запустить процесс их отбора."
   ]
  },
  {
   "cell_type": "markdown",
   "metadata": {},
   "source": [
    "## Пример\n",
    "\n",
    "Рассмотрим набор данных, который сэмплирован из многомерного нормального распределения с матрицей ковариации $C = \\begin{pmatrix} 3 & 1 \\\\ 1 & 2 \\end{pmatrix}$."
   ]
  },
  {
   "cell_type": "code",
   "execution_count": 2,
   "metadata": {},
   "outputs": [
    {
     "data": {
      "image/png": "[encoded data removed]",
      "text/plain": [
       "<Figure size 432x288 with 1 Axes>"
      ]
     },
     "metadata": {
      "needs_background": "light"
     },
     "output_type": "display_data"
    }
   ],
   "source": [
    "from sklearn.decomposition import PCA\n",
    "\n",
    "mu = np.zeros(2)\n",
    "C = np.array([[3,1],[1,2]])\n",
    "\n",
    "data = np.random.multivariate_normal(mu, C, size=50)\n",
    "plt.scatter(data[:,0], data[:,1])\n",
    "plt.show()"
   ]
  },
  {
   "cell_type": "markdown",
   "metadata": {},
   "source": [
    "Путём диагонализации истинной матрицы ковариаций $C$, мы можем найти преобразование исходного набора данных, компоненты которого наилучшим образом будут описывать дисперсию, с учётом их ортогональности друг другу:"
   ]
  },
  {
   "cell_type": "code",
   "execution_count": 3,
   "metadata": {},
   "outputs": [
    {
     "name": "stdout",
     "output_type": "stream",
     "text": [
      "Eigen values of C: [3.61803399 1.38196601]\n",
      "Eigen vectors of C: [[ 0.85065081 -0.52573111]\n",
      " [ 0.52573111  0.85065081]]\n"
     ]
    },
    {
     "data": {
      "image/png": "[encoded data removed]",
      "text/plain": [
       "<Figure size 432x288 with 1 Axes>"
      ]
     },
     "metadata": {
      "needs_background": "light"
     },
     "output_type": "display_data"
    }
   ],
   "source": [
    "v, W_true = np.linalg.eig(C)\n",
    "\n",
    "print('Eigen values of C:', v)\n",
    "\n",
    "print('Eigen vectors of C:', W_true)\n",
    "\n",
    "plt.scatter(data[:,0], data[:,1])\n",
    "# построим истинные компоненты, вдоль которых максимальна дисперсия данных\n",
    "plt.plot(data[:,0], (W_true[0,0]/W_true[0,1])*data[:,0], color=\"g\")\n",
    "plt.plot(data[:,0], (W_true[1,0]/W_true[1,1])*data[:,0], color=\"g\")\n",
    "g_patch = mpatches.Patch(color='g', label='True components')\n",
    "plt.legend(handles=[g_patch])\n",
    "plt.axis('equal')\n",
    "limits = [np.minimum(np.amin(data[:,0]), np.amin(data[:,1])),\n",
    "          np.maximum(np.amax(data[:,0]), np.amax(data[:,1]))]\n",
    "plt.xlim(limits[0],limits[1])\n",
    "plt.ylim(limits[0],limits[1])\n",
    "plt.draw()"
   ]
  },
  {
   "cell_type": "markdown",
   "metadata": {},
   "source": [
    "А теперь сравним эти направления с направлениями, которые выбирает метод главных компонент:"
   ]
  },
  {
   "cell_type": "code",
   "execution_count": 4,
   "metadata": {},
   "outputs": [],
   "source": [
    "def plot_principal_components(data, model, scatter=True, legend=True):\n",
    "    W_pca = model.components_\n",
    "    if scatter:\n",
    "        plt.scatter(data[:,0], data[:,1])\n",
    "    plt.plot(data[:,0], -(W_pca[0,0]/W_pca[0,1])*data[:,0], color=\"c\")\n",
    "    plt.plot(data[:,0], -(W_pca[1,0]/W_pca[1,1])*data[:,0], color=\"c\")\n",
    "    if legend:\n",
    "        c_patch = mpatches.Patch(color='c', label='Principal components')\n",
    "        plt.legend(handles=[c_patch], loc='lower right')\n",
    "    # сделаем графики красивыми:\n",
    "    plt.axis('equal')\n",
    "    limits = [np.minimum(np.amin(data[:,0]), np.amin(data[:,1]))-0.5,\n",
    "              np.maximum(np.amax(data[:,0]), np.amax(data[:,1]))+0.5]\n",
    "    plt.xlim(limits[0],limits[1])\n",
    "    plt.ylim(limits[0],limits[1])\n",
    "    plt.draw()"
   ]
  },
  {
   "cell_type": "code",
   "execution_count": 5,
   "metadata": {},
   "outputs": [
    {
     "name": "stdout",
     "output_type": "stream",
     "text": [
      "PCA Components: [[-0.88220132 -0.47087241]\n",
      " [-0.47087241  0.88220132]]\n"
     ]
    },
    {
     "data": {
      "image/png": "[encoded data removed]",
      "text/plain": [
       "<Figure size 432x288 with 1 Axes>"
      ]
     },
     "metadata": {
      "needs_background": "light"
     },
     "output_type": "display_data"
    }
   ],
   "source": [
    "model = PCA(n_components=2)\n",
    "model.fit(data)\n",
    "\n",
    "print('PCA Components:', model.components_)\n",
    "\n",
    "plt.scatter(data[:,0], data[:,1])\n",
    "# построим истинные компоненты, вдоль которых максимальна дисперсия данных\n",
    "plt.plot(data[:,0], (W_true[0,0]/W_true[0,1])*data[:,0], color=\"g\")\n",
    "plt.plot(data[:,0], (W_true[1,0]/W_true[1,1])*data[:,0], color=\"g\")\n",
    "# построим компоненты, полученные с использованием метода PCA:\n",
    "plot_principal_components(data, model, scatter=False, legend=False)\n",
    "c_patch = mpatches.Patch(color='c', label='Principal components')\n",
    "plt.legend(handles=[g_patch, c_patch])\n",
    "plt.draw()"
   ]
  },
  {
   "cell_type": "markdown",
   "metadata": {},
   "source": [
    "Видно, что уже при небольшом количестве данных они отличаются незначительно. Увеличим размер выборки:"
   ]
  },
  {
   "cell_type": "code",
   "execution_count": 6,
   "metadata": {},
   "outputs": [
    {
     "name": "stdout",
     "output_type": "stream",
     "text": [
      "PCA Components: [[ 0.85587772  0.51717824]\n",
      " [-0.51717824  0.85587772]]\n"
     ]
    },
    {
     "data": {
      "image/png": "[encoded data removed]",
      "text/plain": [
       "<Figure size 432x288 with 1 Axes>"
      ]
     },
     "metadata": {
      "needs_background": "light"
     },
     "output_type": "display_data"
    }
   ],
   "source": [
    "data_large = np.random.multivariate_normal(mu, C, size=5000)\n",
    "\n",
    "model = PCA(n_components=2)\n",
    "model.fit(data_large)\n",
    "\n",
    "print('PCA Components:', model.components_)\n",
    "\n",
    "plt.scatter(data_large[:,0], data_large[:,1], alpha=0.1)\n",
    "# построим истинные компоненты, вдоль которых максимальна дисперсия данных\n",
    "plt.plot(data_large[:,0], (W_true[0,0]/W_true[0,1])*data_large[:,0], color=\"g\")\n",
    "plt.plot(data_large[:,0], (W_true[1,0]/W_true[1,1])*data_large[:,0], color=\"g\")\n",
    "# построим компоненты, полученные с использованием метода PCA:\n",
    "plot_principal_components(data_large, model, scatter=False, legend=False)\n",
    "c_patch = mpatches.Patch(color='c', label='Principal components')\n",
    "plt.legend(handles=[g_patch, c_patch])\n",
    "plt.draw()"
   ]
  },
  {
   "cell_type": "markdown",
   "metadata": {},
   "source": [
    "В этом случае главные компоненты значительно точнее приближают истинные направления данных, вдоль которых наблюдается наибольшая дисперсия."
   ]
  },
  {
   "cell_type": "markdown",
   "metadata": {},
   "source": [
    "## Статистический взгляд на модель\n",
    "\n",
    "Как формализовать предположения метода, указанные выше? При помощи вероятностной модели!\n",
    "\n",
    "Задача, стоящая за любым методом уменьшения размерности: получить из набора зашумлённых признаков $X$ истинные значения $Y$, которые на самом деле определяют набор данных (т.е. сведение датасета с большим количеством признаков к данным, имеющим т.н. \"эффективную размерность\").\n",
    "\n",
    "В случае метода главных компонент мы хотим найти направления, вдоль которых максимальна дисперсия, с учётом описанных выше предположений о структуре данных и компонент.\n",
    "\n",
    "Материал, описанный ниже в данной секции, не обязателен для ознакомления для выполнения следующего задания, т.к. требует некоторых знаний статистики.\n",
    "\n",
    "Для тех, кто собирается его пропустить: в конце раздела мы получим метрику качества, которая должна определять, насколько данные хорошо описываются построенной моделью при заданном числе компонент. Отбор признаков при этом сводится к тому, что мы выбираем то количество компонент, при котором используемая метрика (логарифм правдоподобия) является максимальной.\n",
    "\n",
    "С учётом предположений задача метода главных компонент выглядит следующим образом:\n",
    "\n",
    "$$ x = Wy + \\mu + \\epsilon$$\n",
    "\n",
    "где:\n",
    "- $x$ -- наблюдаемые данные\n",
    "- $W$ -- матрица главных компонент (каждый стобец -- одна компонента)\n",
    "- $y$ -- их проекция на главные компоненты\n",
    "- $\\mu$ -- среднее наблюдаемых данных\n",
    "- $\\epsilon \\sim \\mathcal{N}(0, \\sigma^2I)$ -- нормальный шум\n",
    "\n",
    "Исходя из распределения шума, выпишем распределение на $x$:\n",
    "\n",
    "$$p(x \\mid y) = \\mathcal{N}(Wx + \\mu, \\sigma^2I) $$\n",
    "\n",
    "Введём априорное распределение на $y$:\n",
    "\n",
    "$$p(y) = \\mathcal{N}(0, 1)$$\n",
    "\n",
    "Выведем из этого при помощи формулы Байеса маргинальное распределение на $p(x)$:\n",
    "\n",
    "$$p(x) = \\mathcal{N}(\\mu, \\sigma^2I + WW^T)$$\n",
    "\n",
    "Тогда правдоподобие набора данных при условии используемой модели выглядит следующим образом:\n",
    "\n",
    "$$\\mathcal{L} = \\sum_{i=1}^N \\log p(x_i) = -N/2 \\Big( d\\log(2\\pi) + \\log |C| + \\text{tr}(C^{-1}S) \\Big)$$\n",
    "\n",
    "где:\n",
    "- $C = \\sigma^2I + WW^T$ -- матрица ковариации в маргинальной модели\n",
    "- $S = \\frac{1}{N} \\sum_{i=1}^N (x_i - \\mu)(x_i - \\mu)^T$ -- выборочная ковариация\n",
    "\n",
    "Значение $\\mathcal{L}$ имеет смысл логарифма вероятности получения набора данных $X$ при условии, что он удовлетворяет предположениям модели метода главных компонент. Чем оно больше -- тем лучше модель описывает наблюдаемые данные."
   ]
  },
  {
   "cell_type": "markdown",
   "metadata": {},
   "source": [
    "## Задание 1. Автоматическое уменьшение размерности данных при помощи логарифма правдоподобия $\\mathcal{L}$\n",
    "\n",
    "Рассмотрим набор данных размерности $D$, чья реальная размерность значительно меньше наблюдаемой (назовём её $d$). От вас требуется:\n",
    "\n",
    "1. Для каждого значения $\\hat{d}$ в интервале [1,D] построить модель PCA с $\\hat{d}$ главными компонентами.\n",
    "2. Оценить средний логарифм правдоподобия данных для каждой модели на генеральной совокупности, используя метод кросс-валидации с 3 фолдами (итоговая оценка значения логарифма правдоподобия усредняется по всем фолдам).\n",
    "3. Найти модель, для которой он максимален, и внести в файл ответа число компонент в данной модели, т.е. значение $\\hat{d}_{opt}$.\n",
    "\n",
    "Для оценки логарифма правдоподобия модели для заданного числа главных компонент при помощи метода кросс-валидации используйте следующие функции:\n",
    "\n",
    "    model = PCA(n_components=n)\n",
    "    scores = cv_score(model, data)\n",
    "        \n",
    "Обратите внимание, что scores -- это вектор, длина которого равна числу фолдов. Для получения оценки на правдоподобие модели его значения требуется усреднить.\n",
    "\n",
    "Для визуализации оценок можете использовать следующую функцию:\n",
    "\n",
    "    plot_scores(d_scores)\n",
    "    \n",
    "которой на вход передаётся вектор полученных оценок логарифма правдоподобия данных для каждого $\\hat{d}$.\n",
    "\n",
    "Для интересующихся: данные для заданий 1 и 2 были сгенерированны в соответствии с предполагаемой PCA моделью. То есть: данные $Y$ с эффективной размерностью $d$, полученные из независимых равномерных распределений, линейно траснформированны случайной матрицей $W$ в пространство размерностью $D$, после чего ко всем признакам был добавлен независимый нормальный шум с дисперсией $\\sigma$."
   ]
  },
  {
   "cell_type": "code",
   "execution_count": 7,
   "metadata": {},
   "outputs": [
    {
     "data": {
      "text/html": [
       "<div>\n",
       "<style scoped>\n",
       "    .dataframe tbody tr th:only-of-type {\n",
       "        vertical-align: middle;\n",
       "    }\n",
       "\n",
       "    .dataframe tbody tr th {\n",
       "        vertical-align: top;\n",
       "    }\n",
       "\n",
       "    .dataframe thead th {\n",
       "        text-align: right;\n",
       "    }\n",
       "</style>\n",
       "<table border=\"1\" class=\"dataframe\">\n",
       "  <thead>\n",
       "    <tr style=\"text-align: right;\">\n",
       "      <th></th>\n",
       "      <th>0</th>\n",
       "      <th>1</th>\n",
       "      <th>2</th>\n",
       "      <th>3</th>\n",
       "      <th>4</th>\n",
       "      <th>5</th>\n",
       "      <th>6</th>\n",
       "      <th>7</th>\n",
       "      <th>8</th>\n",
       "      <th>9</th>\n",
       "      <th>...</th>\n",
       "      <th>70</th>\n",
       "      <th>71</th>\n",
       "      <th>72</th>\n",
       "      <th>73</th>\n",
       "      <th>74</th>\n",
       "      <th>75</th>\n",
       "      <th>76</th>\n",
       "      <th>77</th>\n",
       "      <th>78</th>\n",
       "      <th>79</th>\n",
       "    </tr>\n",
       "  </thead>\n",
       "  <tbody>\n",
       "    <tr>\n",
       "      <th>0</th>\n",
       "      <td>-0.238399</td>\n",
       "      <td>-1.311330</td>\n",
       "      <td>-0.782298</td>\n",
       "      <td>-0.341821</td>\n",
       "      <td>0.469353</td>\n",
       "      <td>-0.431860</td>\n",
       "      <td>0.602948</td>\n",
       "      <td>1.220206</td>\n",
       "      <td>1.525103</td>\n",
       "      <td>-0.991354</td>\n",
       "      <td>...</td>\n",
       "      <td>-0.559927</td>\n",
       "      <td>-0.532534</td>\n",
       "      <td>-0.465923</td>\n",
       "      <td>0.874697</td>\n",
       "      <td>-0.108972</td>\n",
       "      <td>-0.080328</td>\n",
       "      <td>0.448971</td>\n",
       "      <td>2.080754</td>\n",
       "      <td>-1.535373</td>\n",
       "      <td>-0.460125</td>\n",
       "    </tr>\n",
       "    <tr>\n",
       "      <th>1</th>\n",
       "      <td>-0.223940</td>\n",
       "      <td>-1.277836</td>\n",
       "      <td>-0.202433</td>\n",
       "      <td>-0.317682</td>\n",
       "      <td>0.081900</td>\n",
       "      <td>-0.624267</td>\n",
       "      <td>-0.577119</td>\n",
       "      <td>-0.489564</td>\n",
       "      <td>0.704099</td>\n",
       "      <td>-0.511071</td>\n",
       "      <td>...</td>\n",
       "      <td>-0.055943</td>\n",
       "      <td>-2.208109</td>\n",
       "      <td>0.027813</td>\n",
       "      <td>-1.663044</td>\n",
       "      <td>0.018190</td>\n",
       "      <td>-0.432993</td>\n",
       "      <td>1.204321</td>\n",
       "      <td>0.705121</td>\n",
       "      <td>-1.106140</td>\n",
       "      <td>0.145533</td>\n",
       "    </tr>\n",
       "    <tr>\n",
       "      <th>2</th>\n",
       "      <td>-0.278740</td>\n",
       "      <td>1.342790</td>\n",
       "      <td>-0.734591</td>\n",
       "      <td>0.618881</td>\n",
       "      <td>1.365690</td>\n",
       "      <td>-1.397553</td>\n",
       "      <td>-1.446412</td>\n",
       "      <td>-0.844917</td>\n",
       "      <td>0.845916</td>\n",
       "      <td>-1.574979</td>\n",
       "      <td>...</td>\n",
       "      <td>-1.616313</td>\n",
       "      <td>2.144484</td>\n",
       "      <td>-1.110290</td>\n",
       "      <td>-0.524140</td>\n",
       "      <td>-2.176645</td>\n",
       "      <td>-1.903969</td>\n",
       "      <td>1.715735</td>\n",
       "      <td>0.054220</td>\n",
       "      <td>-1.125896</td>\n",
       "      <td>1.309994</td>\n",
       "    </tr>\n",
       "    <tr>\n",
       "      <th>3</th>\n",
       "      <td>0.585189</td>\n",
       "      <td>0.344587</td>\n",
       "      <td>1.512917</td>\n",
       "      <td>0.272105</td>\n",
       "      <td>0.480314</td>\n",
       "      <td>-0.688009</td>\n",
       "      <td>-1.473050</td>\n",
       "      <td>-0.732295</td>\n",
       "      <td>0.407361</td>\n",
       "      <td>0.900369</td>\n",
       "      <td>...</td>\n",
       "      <td>1.107443</td>\n",
       "      <td>-0.948995</td>\n",
       "      <td>0.555096</td>\n",
       "      <td>0.645465</td>\n",
       "      <td>1.291971</td>\n",
       "      <td>0.690657</td>\n",
       "      <td>-0.322088</td>\n",
       "      <td>0.341865</td>\n",
       "      <td>-1.436627</td>\n",
       "      <td>0.231027</td>\n",
       "    </tr>\n",
       "    <tr>\n",
       "      <th>4</th>\n",
       "      <td>0.992821</td>\n",
       "      <td>-0.654237</td>\n",
       "      <td>2.431634</td>\n",
       "      <td>-1.167275</td>\n",
       "      <td>0.347093</td>\n",
       "      <td>0.772373</td>\n",
       "      <td>0.766213</td>\n",
       "      <td>-0.441367</td>\n",
       "      <td>0.632604</td>\n",
       "      <td>1.543905</td>\n",
       "      <td>...</td>\n",
       "      <td>0.088682</td>\n",
       "      <td>1.357311</td>\n",
       "      <td>0.739249</td>\n",
       "      <td>-0.213874</td>\n",
       "      <td>0.521273</td>\n",
       "      <td>-0.885125</td>\n",
       "      <td>-1.262695</td>\n",
       "      <td>0.974920</td>\n",
       "      <td>1.139357</td>\n",
       "      <td>-0.104045</td>\n",
       "    </tr>\n",
       "  </tbody>\n",
       "</table>\n",
       "<p>5 rows × 80 columns</p>\n",
       "</div>"
      ],
      "text/plain": [
       "          0         1         2         3         4         5         6  \\\n",
       "0 -0.238399 -1.311330 -0.782298 -0.341821  0.469353 -0.431860  0.602948   \n",
       "1 -0.223940 -1.277836 -0.202433 -0.317682  0.081900 -0.624267 -0.577119   \n",
       "2 -0.278740  1.342790 -0.734591  0.618881  1.365690 -1.397553 -1.446412   \n",
       "3  0.585189  0.344587  1.512917  0.272105  0.480314 -0.688009 -1.473050   \n",
       "4  0.992821 -0.654237  2.431634 -1.167275  0.347093  0.772373  0.766213   \n",
       "\n",
       "          7         8         9  ...        70        71        72        73  \\\n",
       "0  1.220206  1.525103 -0.991354  ... -0.559927 -0.532534 -0.465923  0.874697   \n",
       "1 -0.489564  0.704099 -0.511071  ... -0.055943 -2.208109  0.027813 -1.663044   \n",
       "2 -0.844917  0.845916 -1.574979  ... -1.616313  2.144484 -1.110290 -0.524140   \n",
       "3 -0.732295  0.407361  0.900369  ...  1.107443 -0.948995  0.555096  0.645465   \n",
       "4 -0.441367  0.632604  1.543905  ...  0.088682  1.357311  0.739249 -0.213874   \n",
       "\n",
       "         74        75        76        77        78        79  \n",
       "0 -0.108972 -0.080328  0.448971  2.080754 -1.535373 -0.460125  \n",
       "1  0.018190 -0.432993  1.204321  0.705121 -1.106140  0.145533  \n",
       "2 -2.176645 -1.903969  1.715735  0.054220 -1.125896  1.309994  \n",
       "3  1.291971  0.690657 -0.322088  0.341865 -1.436627  0.231027  \n",
       "4  0.521273 -0.885125 -1.262695  0.974920  1.139357 -0.104045  \n",
       "\n",
       "[5 rows x 80 columns]"
      ]
     },
     "execution_count": 7,
     "metadata": {},
     "output_type": "execute_result"
    }
   ],
   "source": [
    "data = pd.read_csv('data_task1.csv')\n",
    "data.head()"
   ]
  },
  {
   "cell_type": "code",
   "execution_count": 8,
   "metadata": {},
   "outputs": [
    {
     "name": "stdout",
     "output_type": "stream",
     "text": [
      "Optimal number of components d: 20\n"
     ]
    },
    {
     "data": {
      "image/png": "[encoded data removed]",
      "text/plain": [
       "<Figure size 720x432 with 1 Axes>"
      ]
     },
     "metadata": {
      "needs_background": "light"
     },
     "output_type": "display_data"
    },
    {
     "name": "stdout",
     "output_type": "stream",
     "text": [
      "CPU times: user 2min 11s, sys: 1min 40s, total: 3min 52s\n",
      "Wall time: 1min 12s\n"
     ]
    }
   ],
   "source": [
    "%%time \n",
    "\n",
    "from sklearn.decomposition import PCA\n",
    "from sklearn.model_selection import cross_val_score as cv_score\n",
    "\n",
    "def plot_scores(d_scores):\n",
    "    n_components = np.arange(1, len(d_scores)+1)\n",
    "    plt.figure(figsize=(10,6))\n",
    "    plt.plot(n_components, d_scores, 'b', label='PCA scores')\n",
    "    plt.xlim(n_components[0], n_components[-1])\n",
    "    plt.xlabel('n components')\n",
    "    plt.ylabel('cv scores')\n",
    "    plt.legend(loc='lower right')\n",
    "    plt.show()\n",
    "    \n",
    "def write_answer_1(optimal_d):\n",
    "    with open(\"submission_PCA_1.txt\", \"w\") as fout:\n",
    "        fout.write(str(optimal_d))\n",
    "        fout.close()\n",
    "        \n",
    "D = data.shape[1]\n",
    "    \n",
    "max_val_score = -np.inf\n",
    "optim_d = None\n",
    "d_scores = []\n",
    "\n",
    "for d in range(D):\n",
    "    \n",
    "    model = PCA(n_components=d)\n",
    "    val_score = np.mean(cv_score(model, data))    \n",
    "    d_scores.append(val_score)\n",
    "    \n",
    "    if (val_score == None) or (val_score > max_val_score):\n",
    "        \n",
    "        max_val_score = val_score\n",
    "        optim_d = d\n",
    "\n",
    "print('Optimal number of components d:', optim_d)\n",
    "write_answer_1(optim_d)\n",
    "\n",
    "plot_scores(d_scores)"
   ]
  },
  {
   "cell_type": "markdown",
   "metadata": {},
   "source": [
    "Именно такой была эффективная размерность сгенерированных данных"
   ]
  },
  {
   "cell_type": "markdown",
   "metadata": {},
   "source": [
    "## Вариационный взгляд на модель\n",
    "\n",
    "Мы знаем, что каждой главной компоненте соответствует описываемая ей дисперсия данных (дисперсия данных при проекции на эту компоненту). Она численно равна значению диагональных элементов матрицы $\\Lambda$, получаемой из спектрального разложения матрицы ковариации данных (смотри теорию выше).\n",
    "\n",
    "Исходя из этого, мы можем отсортировать дисперсию данных вдоль этих компонент по убыванию, и уменьшить размерность данных, отбросив $q$ итоговых главных компонент, имеющих наименьшую дисперсию.\n",
    "\n",
    "Делать это можно двумя разными способами. Например, если вы вдальнейшем обучаете на данных с уменьшенной размерностью модель классификации или регрессии, то можно запустить итерационный процесс: удалять компоненты с наименьшей дисперсией по одной, пока качество итоговой модели не станет значительно хуже.\n",
    "\n",
    "Более общий способ отбора признаков заключается в том, что вы можете посмотреть на разности в дисперсиях в отсортированном ряде $\\lambda_{(1)} > \\lambda_{(2)} > \\dots > \\lambda_{(D)}$: $\\lambda_{(1)}-\\lambda_{(2)}, \\dots, \\lambda_{(D-1)} - \\lambda_{(D)}$, и удалить те компоненты, на которых разность будет наибольшей. Именно этим методом вам и предлагается воспользоваться для тестового набора данных."
   ]
  },
  {
   "cell_type": "markdown",
   "metadata": {},
   "source": [
    "## Задание 2. Ручное уменьшение размерности признаков посредством анализа дисперсии данных вдоль главных компонент\n",
    "\n",
    "Рассмотрим ещё один набор данных размерности $D$, чья реальная размерность значительно меньше наблюдаемой (назовём её также $d$). От вас требуется:\n",
    "\n",
    "1. Построить модель PCA с $D$ главными компонентами по этим данным.\n",
    "2. Спроецировать данные на главные компоненты.\n",
    "3. Оценить их дисперсию вдоль главных компонент.\n",
    "4. Отсортировать дисперсии в порядке убывания и получить их попарные разности: $\\lambda_{(i-1)} - \\lambda_{(i)}$.\n",
    "5. Найти разность с наибольшим значением и получить по ней оценку на эффективную размерность данных $\\hat{d}$.\n",
    "6. Построить график дисперсий и убедиться, что полученная оценка на $\\hat{d}_{opt}$ действительно имеет смысл, после этого внести полученное значение $\\hat{d}_{opt}$ в файл ответа.\n",
    "\n",
    "Для построения модели PCA используйте функцию:\n",
    "\n",
    "    model.fit(data)\n",
    "    \n",
    "Для трансформации данных используйте метод:\n",
    "\n",
    "    model.transform(data)\n",
    "    \n",
    "Оценку дисперсий на трансформированных данных от вас потребуется реализовать вручную. Для построения графиков можно воспользоваться функцией\n",
    "\n",
    "    plot_variances(d_variances)\n",
    "    \n",
    "которой следует передать на вход отсортированный по убыванию вектор дисперсий вдоль компонент."
   ]
  },
  {
   "cell_type": "code",
   "execution_count": 9,
   "metadata": {},
   "outputs": [
    {
     "data": {
      "text/html": [
       "<div>\n",
       "<style scoped>\n",
       "    .dataframe tbody tr th:only-of-type {\n",
       "        vertical-align: middle;\n",
       "    }\n",
       "\n",
       "    .dataframe tbody tr th {\n",
       "        vertical-align: top;\n",
       "    }\n",
       "\n",
       "    .dataframe thead th {\n",
       "        text-align: right;\n",
       "    }\n",
       "</style>\n",
       "<table border=\"1\" class=\"dataframe\">\n",
       "  <thead>\n",
       "    <tr style=\"text-align: right;\">\n",
       "      <th></th>\n",
       "      <th>0</th>\n",
       "      <th>1</th>\n",
       "      <th>2</th>\n",
       "      <th>3</th>\n",
       "      <th>4</th>\n",
       "      <th>5</th>\n",
       "      <th>6</th>\n",
       "      <th>7</th>\n",
       "      <th>8</th>\n",
       "      <th>9</th>\n",
       "      <th>...</th>\n",
       "      <th>90</th>\n",
       "      <th>91</th>\n",
       "      <th>92</th>\n",
       "      <th>93</th>\n",
       "      <th>94</th>\n",
       "      <th>95</th>\n",
       "      <th>96</th>\n",
       "      <th>97</th>\n",
       "      <th>98</th>\n",
       "      <th>99</th>\n",
       "    </tr>\n",
       "  </thead>\n",
       "  <tbody>\n",
       "    <tr>\n",
       "      <th>0</th>\n",
       "      <td>0.848776</td>\n",
       "      <td>-0.666596</td>\n",
       "      <td>-0.724109</td>\n",
       "      <td>-0.584370</td>\n",
       "      <td>-0.460105</td>\n",
       "      <td>1.161415</td>\n",
       "      <td>-0.153160</td>\n",
       "      <td>-2.253871</td>\n",
       "      <td>1.375337</td>\n",
       "      <td>0.561841</td>\n",
       "      <td>...</td>\n",
       "      <td>1.328021</td>\n",
       "      <td>0.615259</td>\n",
       "      <td>1.447412</td>\n",
       "      <td>1.177600</td>\n",
       "      <td>-0.643321</td>\n",
       "      <td>0.005454</td>\n",
       "      <td>-1.075457</td>\n",
       "      <td>0.636591</td>\n",
       "      <td>0.075188</td>\n",
       "      <td>-0.461723</td>\n",
       "    </tr>\n",
       "    <tr>\n",
       "      <th>1</th>\n",
       "      <td>0.560569</td>\n",
       "      <td>-0.493592</td>\n",
       "      <td>-0.149612</td>\n",
       "      <td>-0.262415</td>\n",
       "      <td>0.967470</td>\n",
       "      <td>-1.094108</td>\n",
       "      <td>0.815526</td>\n",
       "      <td>0.487121</td>\n",
       "      <td>1.537931</td>\n",
       "      <td>-2.168744</td>\n",
       "      <td>...</td>\n",
       "      <td>0.523245</td>\n",
       "      <td>-0.979103</td>\n",
       "      <td>2.280059</td>\n",
       "      <td>-1.413170</td>\n",
       "      <td>1.146576</td>\n",
       "      <td>-1.179831</td>\n",
       "      <td>0.569553</td>\n",
       "      <td>-0.073751</td>\n",
       "      <td>-0.841962</td>\n",
       "      <td>0.474029</td>\n",
       "    </tr>\n",
       "    <tr>\n",
       "      <th>2</th>\n",
       "      <td>-1.484923</td>\n",
       "      <td>-0.622672</td>\n",
       "      <td>0.305978</td>\n",
       "      <td>0.040120</td>\n",
       "      <td>-2.851857</td>\n",
       "      <td>0.092543</td>\n",
       "      <td>-0.029286</td>\n",
       "      <td>-0.624243</td>\n",
       "      <td>-1.155940</td>\n",
       "      <td>0.658744</td>\n",
       "      <td>...</td>\n",
       "      <td>0.916887</td>\n",
       "      <td>1.494340</td>\n",
       "      <td>-1.801660</td>\n",
       "      <td>0.164034</td>\n",
       "      <td>0.467053</td>\n",
       "      <td>-0.872597</td>\n",
       "      <td>0.066600</td>\n",
       "      <td>1.388963</td>\n",
       "      <td>-1.446373</td>\n",
       "      <td>-0.002239</td>\n",
       "    </tr>\n",
       "    <tr>\n",
       "      <th>3</th>\n",
       "      <td>-1.487085</td>\n",
       "      <td>-0.252582</td>\n",
       "      <td>-0.429568</td>\n",
       "      <td>-0.124176</td>\n",
       "      <td>-0.547003</td>\n",
       "      <td>0.942490</td>\n",
       "      <td>-0.783337</td>\n",
       "      <td>-0.994770</td>\n",
       "      <td>2.140593</td>\n",
       "      <td>-0.978872</td>\n",
       "      <td>...</td>\n",
       "      <td>-1.177229</td>\n",
       "      <td>-0.892356</td>\n",
       "      <td>-0.166295</td>\n",
       "      <td>-1.507428</td>\n",
       "      <td>1.218209</td>\n",
       "      <td>-0.769020</td>\n",
       "      <td>1.439147</td>\n",
       "      <td>0.713580</td>\n",
       "      <td>0.765335</td>\n",
       "      <td>-0.452884</td>\n",
       "    </tr>\n",
       "    <tr>\n",
       "      <th>4</th>\n",
       "      <td>0.462349</td>\n",
       "      <td>0.751057</td>\n",
       "      <td>0.140967</td>\n",
       "      <td>-0.006099</td>\n",
       "      <td>-0.244748</td>\n",
       "      <td>-0.075261</td>\n",
       "      <td>0.924772</td>\n",
       "      <td>0.417142</td>\n",
       "      <td>-0.985730</td>\n",
       "      <td>-1.375670</td>\n",
       "      <td>...</td>\n",
       "      <td>-1.392519</td>\n",
       "      <td>0.502969</td>\n",
       "      <td>1.538669</td>\n",
       "      <td>1.002944</td>\n",
       "      <td>-0.832352</td>\n",
       "      <td>0.990356</td>\n",
       "      <td>-1.733266</td>\n",
       "      <td>-0.201313</td>\n",
       "      <td>-0.834691</td>\n",
       "      <td>-1.118169</td>\n",
       "    </tr>\n",
       "  </tbody>\n",
       "</table>\n",
       "<p>5 rows × 100 columns</p>\n",
       "</div>"
      ],
      "text/plain": [
       "          0         1         2         3         4         5         6  \\\n",
       "0  0.848776 -0.666596 -0.724109 -0.584370 -0.460105  1.161415 -0.153160   \n",
       "1  0.560569 -0.493592 -0.149612 -0.262415  0.967470 -1.094108  0.815526   \n",
       "2 -1.484923 -0.622672  0.305978  0.040120 -2.851857  0.092543 -0.029286   \n",
       "3 -1.487085 -0.252582 -0.429568 -0.124176 -0.547003  0.942490 -0.783337   \n",
       "4  0.462349  0.751057  0.140967 -0.006099 -0.244748 -0.075261  0.924772   \n",
       "\n",
       "          7         8         9  ...        90        91        92        93  \\\n",
       "0 -2.253871  1.375337  0.561841  ...  1.328021  0.615259  1.447412  1.177600   \n",
       "1  0.487121  1.537931 -2.168744  ...  0.523245 -0.979103  2.280059 -1.413170   \n",
       "2 -0.624243 -1.155940  0.658744  ...  0.916887  1.494340 -1.801660  0.164034   \n",
       "3 -0.994770  2.140593 -0.978872  ... -1.177229 -0.892356 -0.166295 -1.507428   \n",
       "4  0.417142 -0.985730 -1.375670  ... -1.392519  0.502969  1.538669  1.002944   \n",
       "\n",
       "         94        95        96        97        98        99  \n",
       "0 -0.643321  0.005454 -1.075457  0.636591  0.075188 -0.461723  \n",
       "1  1.146576 -1.179831  0.569553 -0.073751 -0.841962  0.474029  \n",
       "2  0.467053 -0.872597  0.066600  1.388963 -1.446373 -0.002239  \n",
       "3  1.218209 -0.769020  1.439147  0.713580  0.765335 -0.452884  \n",
       "4 -0.832352  0.990356 -1.733266 -0.201313 -0.834691 -1.118169  \n",
       "\n",
       "[5 rows x 100 columns]"
      ]
     },
     "execution_count": 9,
     "metadata": {},
     "output_type": "execute_result"
    }
   ],
   "source": [
    "data = pd.read_csv('data_task2.csv')\n",
    "data.head()"
   ]
  },
  {
   "cell_type": "code",
   "execution_count": 10,
   "metadata": {},
   "outputs": [
    {
     "name": "stdout",
     "output_type": "stream",
     "text": [
      "[[-0.30344764 -1.29751281 -0.70239267 ... -1.47730224  1.11629147\n",
      "  -0.25244507]\n",
      " [-0.0915355   0.65052226 -0.65268647 ...  0.56431176 -0.10094539\n",
      "   0.60052524]\n",
      " [-3.99384512  0.79041553 -1.31979412 ...  1.0193418   1.40797114\n",
      "  -0.38080938]\n",
      " ...\n",
      " [ 0.67301685  1.93241625 -1.38363548 ...  1.13264246 -0.91510327\n",
      "   0.42195635]\n",
      " [-1.79057231 -1.09341789 -1.97410919 ... -0.41204847 -0.58160393\n",
      "   0.61332383]\n",
      " [-0.47895175  1.62999541 -0.95251304 ... -0.58667374  1.06193847\n",
      "  -2.01845297]]\n"
     ]
    }
   ],
   "source": [
    "from sklearn.decomposition import PCA\n",
    "from sklearn.model_selection import cross_val_score as cv_score\n",
    "\n",
    "def plot_variances(d_variances):\n",
    "    n_components = np.arange(1, len(d_variances)+1)\n",
    "    plt.figure(figsize=(10,6))\n",
    "    plt.plot(n_components, d_variances, 'b', label='Component variances')\n",
    "    plt.xlim(n_components[0], n_components[-1])\n",
    "    plt.xlabel('n components')\n",
    "    plt.ylabel('variance')\n",
    "    plt.legend(loc='upper right')\n",
    "    plt.show()\n",
    "    \n",
    "def write_answer_2(optimal_d):\n",
    "    with open(\"submission_PCA_2.txt\", \"w\") as fout:\n",
    "        fout.write(str(optimal_d))\n",
    "        fout.close()\n",
    "        \n",
    "D = data.shape[1]\n",
    "\n",
    "model = PCA(n_components=D)\n",
    "model.fit(data)\n",
    "\n",
    "transformed_data = model.transform(data)\n",
    "\n",
    "print(transformed_data)"
   ]
  },
  {
   "cell_type": "code",
   "execution_count": 11,
   "metadata": {},
   "outputs": [
    {
     "name": "stdout",
     "output_type": "stream",
     "text": [
      "[1.56594705 1.53180728 1.52564678 1.51373456 1.50327486 1.49532339\n",
      " 1.49325169 1.46995883 1.45721972 1.45482448 1.44941557 1.44427171\n",
      " 1.43834467 1.42059039 1.4195153  1.41310465 1.41043572 1.40428589\n",
      " 1.4002877  1.39106802 1.38225813 1.37122417 1.36839709 1.36395737\n",
      " 1.35531452 1.35292835 1.32904696 1.32639478 1.30707139 1.29377763\n",
      " 1.14091994 1.12858394 1.12225987 1.11708608 1.11217924 1.10731379\n",
      " 1.10255656 1.09680217 1.09150513 1.08473802 1.08219034 1.07671126\n",
      " 1.06950122 1.06628304 1.06193963 1.05855672 1.05784692 1.05285515\n",
      " 1.04936568 1.04520065 1.03944879 1.03500811 1.03372573 1.02916382\n",
      " 1.02899159 1.01963022 1.01561214 1.01055987 1.00762026 1.00277744\n",
      " 1.00190165 0.99674868 0.99393182 0.9918987  0.98989568 0.98428374\n",
      " 0.97987422 0.97745787 0.97383986 0.97113959 0.96987686 0.96499488\n",
      " 0.96124961 0.95984481 0.95588614 0.95422523 0.95141464 0.9447777\n",
      " 0.94032402 0.93992536 0.93228365 0.92963587 0.92666734 0.92602862\n",
      " 0.9205829  0.91477605 0.9060912  0.90417682 0.90064433 0.8980669\n",
      " 0.89264049 0.88921571 0.88775267 0.8832433  0.87583033 0.87236739\n",
      " 0.87161092 0.86829184 0.85683251 0.85341941]\n"
     ]
    },
    {
     "data": {
      "image/png": "[encoded data removed]",
      "text/plain": [
       "<Figure size 720x432 with 1 Axes>"
      ]
     },
     "metadata": {
      "needs_background": "light"
     },
     "output_type": "display_data"
    }
   ],
   "source": [
    "# Calculate variances and sort descending\n",
    "variances = np.std(transformed_data, axis=0)\n",
    "print(variances)\n",
    "plot_variances(variances)"
   ]
  },
  {
   "cell_type": "code",
   "execution_count": 12,
   "metadata": {},
   "outputs": [
    {
     "name": "stdout",
     "output_type": "stream",
     "text": [
      "[0.03413977132364443, 0.006160497121304287, 0.011912216710417534, 0.010459706675098657, 0.007951463391477231]\n",
      "d_optim: 30\n"
     ]
    }
   ],
   "source": [
    "# Calculate variances diffs lambda[i-1] - lambda[i]\n",
    "variance_diffs = []\n",
    "\n",
    "# or use np.diff with abs\n",
    "\n",
    "for i, val in enumerate(variances):\n",
    "    if val != variances[-1]:\n",
    "        variance_diffs.append(variances[i] - variances[i+1])\n",
    "print(variance_diffs[:5])\n",
    "\n",
    "d_optim = np.argmax(variance_diffs) + 1\n",
    "print('d_optim:', d_optim)\n",
    "write_answer_2(d_optim)"
   ]
  },
  {
   "cell_type": "markdown",
   "metadata": {},
   "source": [
    "## Интерпретация главных компонент\n",
    "\n",
    "В качестве главных компонент мы получаем линейные комбинации исходных призанков, поэтому резонно возникает вопрос об их интерпретации.\n",
    "\n",
    "Для этого существует несколько подходов, мы рассмотрим два:\n",
    "- рассчитать взаимосвязи главных компонент с исходными признаками\n",
    "- рассчитать вклады каждого конкретного наблюдения в главные компоненты\n",
    "\n",
    "Первый способ подходит в том случае, когда все объекты из набора данных не несут для нас никакой семантической информации, которая уже не запечатлена в наборе признаков.\n",
    "\n",
    "Второй способ подходит для случая, когда данные имеют более сложную структуру. Например, лица для человека несут больший семантический смысл, чем вектор значений пикселей, которые анализирует PCA.\n",
    "\n",
    "Рассмотрим подробнее способ 1: он заключается в подсчёте коэффициентов корреляций между исходными признаками и набором главных компонент.\n",
    "\n",
    "Так как метод главных компонент является линейным, то предлагается для анализа использовать корреляцию Пирсона, выборочный аналог которой имеет следующую формулу:\n",
    "\n",
    "$$r_{jk} = \\frac{\\sum_{i=1}^N (x_{ij} - \\bar{x}_j) (y_{ik} - \\bar{y}_k)}{\\sqrt{\\sum_{i=1}^N (x_{ij} - \\bar{x}_j)^2 \\sum_{i=1}^N (y_{ik} - \\bar{y}_k)^2}} $$\n",
    "\n",
    "где:\n",
    "- $\\bar{x}_j$ -- среднее значение j-го признака,\n",
    "- $\\bar{y}_k$ -- среднее значение проекции на k-ю главную компоненту.\n",
    "\n",
    "Корреляция Пирсона является мерой линейной зависимости. Она равна 0 в случае, когда величины независимы, и $\\pm 1$, если они линейно зависимы. Исходя из степени корреляции новой компоненты с исходными признаками, можно строить её семантическую интерпретацию, т.к. смысл исходных признаков мы знаем."
   ]
  },
  {
   "cell_type": "markdown",
   "metadata": {},
   "source": [
    "## Задание 3. Анализ главных компонент при помощи корреляций с исходными признаками.\n",
    "\n",
    "1. Обучите метод главных компонент на датасете iris, получите преобразованные данные.\n",
    "2. Посчитайте корреляции исходных признаков с их проекциями на первые две главные компоненты.\n",
    "3. Для каждого признака найдите компоненту (из двух построенных), с которой он коррелирует больше всего.\n",
    "4. На основании п.3 сгруппируйте признаки по компонентам. Составьте два списка: список номеров признаков, которые сильнее коррелируют с первой компонентой, и такой же список для второй. Нумерацию начинать с единицы. Передайте оба списка функции write_answer_3.\n",
    "\n",
    "Набор данных состоит из 4 признаков, посчитанных для 150 ирисов. Каждый из них принадлежит одному из трёх видов. Визуализацию проекции данного датасета на две компоненты, которые описывают наибольшую дисперсию данных, можно получить при помощи функции\n",
    "\n",
    "    plot_iris(transformed_data, target, target_names)\n",
    "    \n",
    "на вход которой требуется передать данные, преобразованные при помощи PCA, а также информацию о классах. Цвет точек отвечает одному из трёх видов ириса.\n",
    "\n",
    "Для того чтобы получить имена исходных признаков, используйте следующий список:\n",
    "\n",
    "    iris.feature_names\n",
    "    \n",
    "При подсчёте корреляций не забудьте центрировать признаки и проекции на главные компоненты (вычитать из них среднее)."
   ]
  },
  {
   "cell_type": "code",
   "execution_count": 13,
   "metadata": {},
   "outputs": [
    {
     "name": "stdout",
     "output_type": "stream",
     "text": [
      "Data Shape: 4\n"
     ]
    },
    {
     "data": {
      "image/png": "[encoded data removed]",
      "text/plain": [
       "<Figure size 720x432 with 1 Axes>"
      ]
     },
     "metadata": {
      "needs_background": "light"
     },
     "output_type": "display_data"
    }
   ],
   "source": [
    "from sklearn import datasets\n",
    "\n",
    "def plot_iris(transformed_data, target, target_names):\n",
    "    plt.figure(figsize=(10,6))\n",
    "    for c, i, target_name in zip(\"rgb\", [0, 1, 2], target_names):\n",
    "        plt.scatter(transformed_data[target == i, 0],\n",
    "                    transformed_data[target == i, 1], c=c, label=target_name)\n",
    "    plt.legend()\n",
    "    plt.show()\n",
    "    \n",
    "def write_answer_3(list_pc1, list_pc2):\n",
    "    with open(\"submission_PCA_3.txt\", \"w\") as fout:\n",
    "        fout.write(\" \".join([str(num) for num in list_pc1]))\n",
    "        fout.write(\" \")\n",
    "        fout.write(\" \".join([str(num) for num in list_pc2]))\n",
    "        fout.close()\n",
    "\n",
    "# load iris dataset\n",
    "iris = datasets.load_iris()\n",
    "data = iris.data\n",
    "target = iris.target\n",
    "target_names = iris.target_names\n",
    "\n",
    "D = data.shape[1]\n",
    "print('Data Shape:', D)\n",
    "\n",
    "model = PCA(n_components=D)\n",
    "model.fit(data)\n",
    "\n",
    "transformed_data = model.transform(data)\n",
    "\n",
    "plot_iris(transformed_data, target, target_names)"
   ]
  },
  {
   "cell_type": "code",
   "execution_count": 14,
   "metadata": {},
   "outputs": [
    {
     "data": {
      "text/plain": [
       "[{'feature': 1, 'corr_value': 0.8974017619582982, 'group': 1},\n",
       " {'feature': 2, 'corr_value': 0.825228709231998, 'group': 2},\n",
       " {'feature': 3, 'corr_value': 0.9978739422413104, 'group': 1},\n",
       " {'feature': 4, 'corr_value': 0.9665475167033069, 'group': 1}]"
      ]
     },
     "execution_count": 14,
     "metadata": {},
     "output_type": "execute_result"
    }
   ],
   "source": [
    "first_component, second_component = transformed_data[:, 0], transformed_data[:, 1]\n",
    "\n",
    "corr_data = []\n",
    "list_pc1 = []\n",
    "list_pc2 = []\n",
    "\n",
    "for i in range(data.shape[1]):\n",
    "    corr_first = np.corrcoef(data[:, i], first_component)[0,1]\n",
    "    corr_second = np.corrcoef(data[:, i], second_component)[0,1]\n",
    "    if corr_first > corr_second:\n",
    "        component_class = 1 \n",
    "        list_pc1.append(i+1)\n",
    "    else:\n",
    "        component_class = 2\n",
    "        list_pc2.append(i+1)\n",
    "        \n",
    "    corr_data.append({'feature': i+1, 'corr_value': max(corr_first, corr_second), 'group': component_class})\n",
    "\n",
    "write_answer_3(list_pc1, list_pc2)\n",
    "corr_data"
   ]
  },
  {
   "cell_type": "markdown",
   "metadata": {},
   "source": [
    "Первый, третий и четвёртный признаки значимо коррелируют с первой компонентой, второй -- со второй"
   ]
  },
  {
   "cell_type": "markdown",
   "metadata": {},
   "source": [
    "## Интерпретация главных компонент с использованием данных\n",
    "\n",
    "Рассмотрим теперь величину, которую можно проинтерпретировать, как квадрат косинуса угла между объектом выборки и главной компонентой:\n",
    "\n",
    "$$ cos^2_{ik} = \\frac{f_{ik}^2}{\\sum_{\\ell=1}^d f_{i\\ell}^2} $$\n",
    "\n",
    "где\n",
    "- i -- номер объекта\n",
    "- k -- номер главной компоненты\n",
    "- $f_{ik}$ -- модуль центрированной проекции объекта на компоненту\n",
    "\n",
    "Очевидно, что\n",
    "\n",
    "$$ \\sum_{k=1}^d cos^2_{ik} = 1 $$\n",
    "\n",
    "Это значит, что для каждого объекта мы в виде данной величины получили веса, пропорциональные вкладу, которую вносит данный объект в дисперсию каждой компоненты. Чем больше вклад, тем более значим объект для описания конкретной главной компоненты."
   ]
  },
  {
   "cell_type": "markdown",
   "metadata": {},
   "source": [
    "## Задание 4. Анализ главных компонент при помощи вкладов в их дисперсию отдельных объектов\n",
    "\n",
    "1. Загрузите датасет лиц Olivetti Faces и обучите на нём модель RandomizedPCA (используется при большом количестве признаков и работает быстрее, чем обычный PCA). Получите проекции признаков на 10 первых главных компонент.\n",
    "2. Посчитайте для каждого объекта его относительный вклад в дисперсию каждой из 10 компонент, используя формулу из предыдущего раздела (d = 10).\n",
    "3. Для каждой компоненты найдите и визуализируйте лицо, которое вносит наибольший относительный вклад в неё. Для визуализации используйте функцию\n",
    "\n",
    "        plt.imshow(image.reshape(image_shape))\n",
    "        \n",
    "4. Передайте в функцию write_answer_4 список номеров лиц с наибольшим относительным вкладом в дисперсию каждой из компонент, список начинается с 0."
   ]
  },
  {
   "cell_type": "code",
   "execution_count": 15,
   "metadata": {
    "scrolled": true
   },
   "outputs": [],
   "source": [
    "from sklearn.datasets import fetch_olivetti_faces\n",
    "from sklearn.decomposition import PCA\n",
    "\n",
    "def write_answer_4(list_pc):\n",
    "    with open(\"submission_PCA_4.txt\", \"w\") as fout:\n",
    "        fout.write(\" \".join([str(num) for num in list_pc]))\n",
    "        fout.close()\n",
    "\n",
    "data = fetch_olivetti_faces(shuffle=True, random_state=0).data\n",
    "image_shape = (64, 64)"
   ]
  },
  {
   "cell_type": "code",
   "execution_count": 16,
   "metadata": {},
   "outputs": [],
   "source": [
    "model = PCA(n_components=10, svd_solver='randomized', tol=0.0, whiten=False)\n",
    "model.fit(data)\n",
    "transformed_data = model.transform(data)"
   ]
  },
  {
   "cell_type": "code",
   "execution_count": 17,
   "metadata": {},
   "outputs": [
    {
     "data": {
      "text/plain": [
       "array([[ 0.8157951 , -4.1440363 ,  2.483264  , ..., -2.1643198 ,\n",
       "         0.25091973, -0.602331  ],\n",
       "       [ 3.8633645 , -1.334571  , -5.4239664 , ..., -0.4070258 ,\n",
       "        -1.0706741 ,  0.4865777 ],\n",
       "       [ 4.8699327 , -0.5586571 , -0.8841976 , ...,  1.269364  ,\n",
       "         2.128557  , -1.6204119 ],\n",
       "       ...,\n",
       "       [-2.0034711 , -1.8449516 ,  5.7545905 , ..., -0.65328485,\n",
       "        -1.54337   ,  1.4828382 ],\n",
       "       [-1.9705234 ,  3.3787138 ,  2.0699823 , ..., -0.7188645 ,\n",
       "         0.8142798 ,  1.0040014 ],\n",
       "       [-4.105233  ,  1.9917208 , -0.05972108, ..., -0.9304035 ,\n",
       "         0.68266827, -1.263155  ]], dtype=float32)"
      ]
     },
     "execution_count": 17,
     "metadata": {},
     "output_type": "execute_result"
    }
   ],
   "source": [
    "transformed_data"
   ]
  },
  {
   "cell_type": "code",
   "execution_count": 18,
   "metadata": {},
   "outputs": [],
   "source": [
    "transformed_data = transformed_data - np.mean(transformed_data, axis=0)"
   ]
  },
  {
   "cell_type": "code",
   "execution_count": 19,
   "metadata": {},
   "outputs": [
    {
     "data": {
      "text/plain": [
       "array([[ 0.8157952 , -4.1440363 ,  2.4832644 , ..., -2.16432   ,\n",
       "         0.25091967, -0.60233116],\n",
       "       [ 3.8633645 , -1.3345709 , -5.423966  , ..., -0.40702596,\n",
       "        -1.0706741 ,  0.48657754],\n",
       "       [ 4.8699327 , -0.558657  , -0.88419706, ...,  1.2693639 ,\n",
       "         2.128557  , -1.620412  ],\n",
       "       ...,\n",
       "       [-2.0034711 , -1.8449515 ,  5.754591  , ..., -0.653285  ,\n",
       "        -1.54337   ,  1.482838  ],\n",
       "       [-1.9705232 ,  3.3787138 ,  2.0699828 , ..., -0.7188647 ,\n",
       "         0.81427974,  1.0040013 ],\n",
       "       [-4.105233  ,  1.9917209 , -0.05972053, ..., -0.93040365,\n",
       "         0.6826682 , -1.2631551 ]], dtype=float32)"
      ]
     },
     "execution_count": 19,
     "metadata": {},
     "output_type": "execute_result"
    }
   ],
   "source": [
    "transformed_data"
   ]
  },
  {
   "cell_type": "code",
   "execution_count": 20,
   "metadata": {},
   "outputs": [],
   "source": [
    "# use a formula for cos^2[i,k]\n",
    "transformed_data = transformed_data ** 2\n",
    "transformed_data = transformed_data / np.sum(transformed_data, axis = 1).reshape(len(transformed_data), 1)"
   ]
  },
  {
   "cell_type": "code",
   "execution_count": 21,
   "metadata": {},
   "outputs": [
    {
     "data": {
      "text/plain": [
       "array([[2.0695331e-02, 5.3401959e-01, 1.9175911e-01, ..., 1.4566426e-01,\n",
       "        1.9578505e-03, 1.1281861e-02],\n",
       "       [2.4987316e-01, 2.9817522e-02, 4.9251810e-01, ..., 2.7735278e-03,\n",
       "        1.9191232e-02, 3.9636232e-03],\n",
       "       [3.8764450e-01, 5.1012686e-03, 1.2778675e-02, ..., 2.6336616e-02,\n",
       "        7.4055657e-02, 4.2917915e-02],\n",
       "       ...,\n",
       "       [7.7194043e-02, 6.5461740e-02, 6.3686377e-01, ..., 8.2077291e-03,\n",
       "        4.5809727e-02, 4.2286824e-02],\n",
       "       [1.1595288e-01, 3.4089550e-01, 1.2795341e-01, ..., 1.5431662e-02,\n",
       "        1.9800022e-02, 3.0101415e-02],\n",
       "       [5.6825578e-01, 1.3375965e-01, 1.2025841e-04, ..., 2.9188447e-02,\n",
       "        1.5714029e-02, 5.3799909e-02]], dtype=float32)"
      ]
     },
     "execution_count": 21,
     "metadata": {},
     "output_type": "execute_result"
    }
   ],
   "source": [
    "transformed_data"
   ]
  },
  {
   "cell_type": "code",
   "execution_count": 22,
   "metadata": {},
   "outputs": [
    {
     "data": {
      "text/plain": [
       "array([197,  18,  66, 319, 363, 131, 142, 382, 353, 140])"
      ]
     },
     "execution_count": 22,
     "metadata": {},
     "output_type": "execute_result"
    }
   ],
   "source": [
    "list_pc = np.argmax(transformed_data, axis=0)\n",
    "write_answer_4(list_pc)\n",
    "list_pc"
   ]
  },
  {
   "cell_type": "markdown",
   "metadata": {},
   "source": [
    "Каждое наблюдение вносит самый значимый вклад в соответствующую компоненту."
   ]
  },
  {
   "cell_type": "markdown",
   "metadata": {},
   "source": [
    "## Анализ основных недостатков метода главных компонент\n",
    "\n",
    "Рассмотренные выше задачи являются, безусловно, модельными, потому что данные для них были сгенерированы в соответствии с предположениями метода главных компонент. На практике эти предположения, естественно, выполняются далеко не всегда. Рассмотрим типичные ошибки PCA, которые следует иметь в виду перед тем, как его применять."
   ]
  },
  {
   "cell_type": "markdown",
   "metadata": {},
   "source": [
    "### Направления с максимальной дисперсией в данных неортогональны\n",
    "\n",
    "Рассмотрим случай выборки, которая сгенерирована из двух вытянутых нормальных распределений:"
   ]
  },
  {
   "cell_type": "code",
   "execution_count": 23,
   "metadata": {},
   "outputs": [
    {
     "name": "stderr",
     "output_type": "stream",
     "text": [
      "<ipython-input-23-14e8e9ec00d6>:7: RuntimeWarning: covariance is not positive-semidefinite.\n",
      "  np.random.multivariate_normal(mu, C2, size=50)])\n"
     ]
    },
    {
     "data": {
      "image/png": "[encoded data removed]",
      "text/plain": [
       "<Figure size 432x288 with 1 Axes>"
      ]
     },
     "metadata": {
      "needs_background": "light"
     },
     "output_type": "display_data"
    }
   ],
   "source": [
    "C1 = np.array([[10,0],[0,0.5]])\n",
    "phi = np.pi/3\n",
    "C2 = np.dot(C1, np.array([[np.cos(phi), np.sin(phi)],\n",
    "                          [-np.sin(phi),np.cos(phi)]]))\n",
    "\n",
    "data = np.vstack([np.random.multivariate_normal(mu, C1, size=50),\n",
    "                  np.random.multivariate_normal(mu, C2, size=50)])\n",
    "plt.scatter(data[:,0], data[:,1])\n",
    "# построим истинные интересующие нас компоненты\n",
    "plt.plot(data[:,0], np.zeros(data[:,0].size), color=\"g\")\n",
    "plt.plot(data[:,0], 3**0.5*data[:,0], color=\"g\")\n",
    "# обучим модель pca и построим главные компоненты\n",
    "model = PCA(n_components=2)\n",
    "model.fit(data)\n",
    "plot_principal_components(data, model, scatter=False, legend=False)\n",
    "c_patch = mpatches.Patch(color='c', label='Principal components')\n",
    "plt.legend(handles=[g_patch, c_patch])\n",
    "plt.draw()"
   ]
  },
  {
   "cell_type": "markdown",
   "metadata": {},
   "source": [
    "В чём проблема, почему pca здесь работает плохо? Ответ прост: интересующие нас компоненты в данных коррелированны между собой (или неортогональны, в зависимости от того, какой терминологией пользоваться). Для поиска подобных преобразований требуются более сложные методы, которые уже выходят за рамки метода главных компонент.\n",
    "\n",
    "Для интересующихся: то, что можно применить непосредственно к выходу метода главных компонент, для получения подобных неортогональных преобразований, называется методами ротации. Почитать о них можно в связи с другим методом уменьшения размерности, который называется Factor Analysis (FA), но ничего не мешает их применять и к главным компонентам."
   ]
  },
  {
   "cell_type": "markdown",
   "metadata": {},
   "source": [
    "### Интересное направление в данных не совпадает с направлением максимальной дисперсии\n",
    "\n",
    "Рассмотрим пример, когда дисперсии не отражают интересующих нас направлений в данных:"
   ]
  },
  {
   "cell_type": "code",
   "execution_count": 24,
   "metadata": {},
   "outputs": [
    {
     "data": {
      "image/png": "[encoded data removed]",
      "text/plain": [
       "<Figure size 432x288 with 1 Axes>"
      ]
     },
     "metadata": {
      "needs_background": "light"
     },
     "output_type": "display_data"
    }
   ],
   "source": [
    "C = np.array([[0.5,0],[0,10]])\n",
    "mu1 = np.array([-2,0])\n",
    "mu2 = np.array([2,0])\n",
    "\n",
    "data = np.vstack([np.random.multivariate_normal(mu1, C, size=50),\n",
    "                  np.random.multivariate_normal(mu2, C, size=50)])\n",
    "plt.scatter(data[:,0], data[:,1])\n",
    "# обучим модель pca и построим главные компоненты\n",
    "model = PCA(n_components=2)\n",
    "model.fit(data)\n",
    "plot_principal_components(data, model)\n",
    "plt.draw()"
   ]
  },
  {
   "cell_type": "markdown",
   "metadata": {},
   "source": [
    "Очевидно, что в данном случае метод главных компонент будет считать вертикальную компоненту более значимой для описания набора данных, чем горизонтальную. \n",
    "\n",
    "Но, например, в случае, когда данные из левого и правого кластера относятся к разным классам, для их линейной разделимости вертикальная компонента является шумовой. Несмотря на это, её метод главных компонент никогда шумовой не признает, и есть вероятность, что отбор признаков с его помощью выкинет из ваших данных значимые для решаемой вами задачи компоненты просто потому, что вдоль них значения имеют низкую дисперсию.\n",
    "\n",
    "Справляться с такими ситуациями могут некоторые другие методы уменьшения размерности данных, например, метод независимых компонент (Independent Component Analysis, ICA)."
   ]
  }
 ],
 "metadata": {
  "kernelspec": {
   "display_name": "Python 3",
   "language": "python",
   "name": "python3"
  },
  "language_info": {
   "codemirror_mode": {
    "name": "ipython",
    "version": 3
   },
   "file_extension": ".py",
   "mimetype": "text/x-python",
   "name": "python",
   "nbconvert_exporter": "python",
   "pygments_lexer": "ipython3",
   "version": "3.8.5"
  }
 },
 "nbformat": 4,
 "nbformat_minor": 1
}
