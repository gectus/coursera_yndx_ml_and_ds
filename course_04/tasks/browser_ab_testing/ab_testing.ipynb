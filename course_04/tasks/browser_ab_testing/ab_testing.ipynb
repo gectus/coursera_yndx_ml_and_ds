{
 "cells": [
  {
   "cell_type": "markdown",
   "metadata": {},
   "source": [
    "## Анализ результатов АБ-теста"
   ]
  },
  {
   "cell_type": "code",
   "execution_count": 1,
   "metadata": {},
   "outputs": [],
   "source": [
    "import numpy as np\n",
    "import pandas as pd\n",
    "\n",
    "import matplotlib.pyplot as plt\n",
    "import seaborn as sns\n",
    "sns.set()\n",
    "\n",
    "%matplotlib inline\n",
    "\n",
    "import scipy\n",
    "from statsmodels.sandbox.stats.multicomp import multipletests "
   ]
  },
  {
   "cell_type": "markdown",
   "metadata": {},
   "source": [
    "### В данном задании вам нужно будет\n",
    "\n",
    "- проанализировать АБ тест, проведенный на реальных пользователях Яндекса\n",
    "- подтвердить или опровергнуть наличие изменений в пользовательском поведении между контрольной ($control$) и тестовой ($exp$) группами\n",
    "- определить характер этих изменений и практическую значимость вводимого изменения\n",
    "- понять, какая из пользовательских групп более всего проигрывает / выигрывает от тестируемого изменения (локализовать изменение)\n",
    "\n",
    "### Описание данных:\n",
    "\n",
    "- userID: уникальный идентификатор пользователя\n",
    "- browser: браузер, который использовал userID\n",
    "- slot: в каком статусе пользователь участвовал в исследовании (exp = видел измененную страницу, control = видел неизменную страницу)\n",
    "- n_clicks: количество кликов, которые пользоваль совершил за n_queries\n",
    "- n_queries: количество запросов, который совершил userID, пользуясь браузером browser\n",
    "- n_nonclk_queries: количество запросов пользователя, в которых им не было совершено ни одного клика\n",
    "\n",
    "Обращаем ваше внимание, что не все люди используют только один браузер, поэтому в столбце $userID$ есть повторяющиеся идентификаторы. В предлагаемых данных уникальным является сочетание $userID$ и $browser$.\n",
    "\n",
    "Основная метрика, на которой мы сосредоточимся в этой работе, — это количество пользовательских кликов на web-странице в зависимости от тестируемого изменения этой страницы."
   ]
  },
  {
   "cell_type": "code",
   "execution_count": 2,
   "metadata": {},
   "outputs": [
    {
     "data": {
      "text/plain": [
       "(566134, 6)"
      ]
     },
     "execution_count": 2,
     "metadata": {},
     "output_type": "execute_result"
    }
   ],
   "source": [
    "browser = pd.read_csv('browser.csv')\n",
    "browser.shape"
   ]
  },
  {
   "cell_type": "code",
   "execution_count": 3,
   "metadata": {},
   "outputs": [
    {
     "name": "stdout",
     "output_type": "stream",
     "text": [
      "<class 'pandas.core.frame.DataFrame'>\n",
      "RangeIndex: 566134 entries, 0 to 566133\n",
      "Data columns (total 6 columns):\n",
      " #   Column            Non-Null Count   Dtype \n",
      "---  ------            --------------   ----- \n",
      " 0   userID            566134 non-null  int64 \n",
      " 1   browser           566134 non-null  object\n",
      " 2   slot              566134 non-null  object\n",
      " 3   n_clicks          566134 non-null  int64 \n",
      " 4   n_queries         566134 non-null  int64 \n",
      " 5   n_nonclk_queries  566134 non-null  int64 \n",
      "dtypes: int64(4), object(2)\n",
      "memory usage: 25.9+ MB\n"
     ]
    }
   ],
   "source": [
    "browser.info()"
   ]
  },
  {
   "cell_type": "code",
   "execution_count": 4,
   "metadata": {},
   "outputs": [
    {
     "data": {
      "text/html": [
       "<div>\n",
       "<style scoped>\n",
       "    .dataframe tbody tr th:only-of-type {\n",
       "        vertical-align: middle;\n",
       "    }\n",
       "\n",
       "    .dataframe tbody tr th {\n",
       "        vertical-align: top;\n",
       "    }\n",
       "\n",
       "    .dataframe thead th {\n",
       "        text-align: right;\n",
       "    }\n",
       "</style>\n",
       "<table border=\"1\" class=\"dataframe\">\n",
       "  <thead>\n",
       "    <tr style=\"text-align: right;\">\n",
       "      <th></th>\n",
       "      <th>userID</th>\n",
       "      <th>n_clicks</th>\n",
       "      <th>n_queries</th>\n",
       "      <th>n_nonclk_queries</th>\n",
       "    </tr>\n",
       "  </thead>\n",
       "  <tbody>\n",
       "    <tr>\n",
       "      <th>count</th>\n",
       "      <td>566134.000000</td>\n",
       "      <td>566134.000000</td>\n",
       "      <td>566134.000000</td>\n",
       "      <td>566134.000000</td>\n",
       "    </tr>\n",
       "    <tr>\n",
       "      <th>mean</th>\n",
       "      <td>301377.214027</td>\n",
       "      <td>11.431658</td>\n",
       "      <td>10.720524</td>\n",
       "      <td>4.703987</td>\n",
       "    </tr>\n",
       "    <tr>\n",
       "      <th>std</th>\n",
       "      <td>175526.333101</td>\n",
       "      <td>20.251494</td>\n",
       "      <td>16.262827</td>\n",
       "      <td>8.109958</td>\n",
       "    </tr>\n",
       "    <tr>\n",
       "      <th>min</th>\n",
       "      <td>1.000000</td>\n",
       "      <td>0.000000</td>\n",
       "      <td>1.000000</td>\n",
       "      <td>0.000000</td>\n",
       "    </tr>\n",
       "    <tr>\n",
       "      <th>25%</th>\n",
       "      <td>148627.250000</td>\n",
       "      <td>1.000000</td>\n",
       "      <td>2.000000</td>\n",
       "      <td>1.000000</td>\n",
       "    </tr>\n",
       "    <tr>\n",
       "      <th>50%</th>\n",
       "      <td>299362.500000</td>\n",
       "      <td>4.000000</td>\n",
       "      <td>5.000000</td>\n",
       "      <td>2.000000</td>\n",
       "    </tr>\n",
       "    <tr>\n",
       "      <th>75%</th>\n",
       "      <td>455698.750000</td>\n",
       "      <td>13.000000</td>\n",
       "      <td>13.000000</td>\n",
       "      <td>6.000000</td>\n",
       "    </tr>\n",
       "    <tr>\n",
       "      <th>max</th>\n",
       "      <td>603137.000000</td>\n",
       "      <td>863.000000</td>\n",
       "      <td>665.000000</td>\n",
       "      <td>581.000000</td>\n",
       "    </tr>\n",
       "  </tbody>\n",
       "</table>\n",
       "</div>"
      ],
      "text/plain": [
       "              userID       n_clicks      n_queries  n_nonclk_queries\n",
       "count  566134.000000  566134.000000  566134.000000     566134.000000\n",
       "mean   301377.214027      11.431658      10.720524          4.703987\n",
       "std    175526.333101      20.251494      16.262827          8.109958\n",
       "min         1.000000       0.000000       1.000000          0.000000\n",
       "25%    148627.250000       1.000000       2.000000          1.000000\n",
       "50%    299362.500000       4.000000       5.000000          2.000000\n",
       "75%    455698.750000      13.000000      13.000000          6.000000\n",
       "max    603137.000000     863.000000     665.000000        581.000000"
      ]
     },
     "execution_count": 4,
     "metadata": {},
     "output_type": "execute_result"
    }
   ],
   "source": [
    "browser.describe()"
   ]
  },
  {
   "cell_type": "code",
   "execution_count": 5,
   "metadata": {},
   "outputs": [
    {
     "data": {
      "text/html": [
       "<div>\n",
       "<style scoped>\n",
       "    .dataframe tbody tr th:only-of-type {\n",
       "        vertical-align: middle;\n",
       "    }\n",
       "\n",
       "    .dataframe tbody tr th {\n",
       "        vertical-align: top;\n",
       "    }\n",
       "\n",
       "    .dataframe thead th {\n",
       "        text-align: right;\n",
       "    }\n",
       "</style>\n",
       "<table border=\"1\" class=\"dataframe\">\n",
       "  <thead>\n",
       "    <tr style=\"text-align: right;\">\n",
       "      <th></th>\n",
       "      <th>userID</th>\n",
       "      <th>browser</th>\n",
       "      <th>slot</th>\n",
       "      <th>n_clicks</th>\n",
       "      <th>n_queries</th>\n",
       "      <th>n_nonclk_queries</th>\n",
       "    </tr>\n",
       "  </thead>\n",
       "  <tbody>\n",
       "    <tr>\n",
       "      <th>0</th>\n",
       "      <td>1</td>\n",
       "      <td>Browser #2</td>\n",
       "      <td>exp</td>\n",
       "      <td>23</td>\n",
       "      <td>32</td>\n",
       "      <td>19</td>\n",
       "    </tr>\n",
       "    <tr>\n",
       "      <th>1</th>\n",
       "      <td>3</td>\n",
       "      <td>Browser #4</td>\n",
       "      <td>exp</td>\n",
       "      <td>3</td>\n",
       "      <td>4</td>\n",
       "      <td>2</td>\n",
       "    </tr>\n",
       "    <tr>\n",
       "      <th>2</th>\n",
       "      <td>5</td>\n",
       "      <td>Browser #4</td>\n",
       "      <td>exp</td>\n",
       "      <td>29</td>\n",
       "      <td>35</td>\n",
       "      <td>16</td>\n",
       "    </tr>\n",
       "    <tr>\n",
       "      <th>3</th>\n",
       "      <td>6</td>\n",
       "      <td>Browser #4</td>\n",
       "      <td>control</td>\n",
       "      <td>12</td>\n",
       "      <td>6</td>\n",
       "      <td>0</td>\n",
       "    </tr>\n",
       "    <tr>\n",
       "      <th>4</th>\n",
       "      <td>7</td>\n",
       "      <td>Browser #4</td>\n",
       "      <td>exp</td>\n",
       "      <td>54</td>\n",
       "      <td>68</td>\n",
       "      <td>30</td>\n",
       "    </tr>\n",
       "  </tbody>\n",
       "</table>\n",
       "</div>"
      ],
      "text/plain": [
       "   userID     browser     slot  n_clicks  n_queries  n_nonclk_queries\n",
       "0       1  Browser #2      exp        23         32                19\n",
       "1       3  Browser #4      exp         3          4                 2\n",
       "2       5  Browser #4      exp        29         35                16\n",
       "3       6  Browser #4  control        12          6                 0\n",
       "4       7  Browser #4      exp        54         68                30"
      ]
     },
     "execution_count": 5,
     "metadata": {},
     "output_type": "execute_result"
    }
   ],
   "source": [
    "browser.head()"
   ]
  },
  {
   "cell_type": "markdown",
   "metadata": {},
   "source": [
    "#### 1. Посчитайте, насколько в группе $exp$ больше пользовательских кликов по сравнению с группой $control$ в процентах от числа кликов в контрольной группе.\n",
    "\n",
    "Полученный процент округлите до третьего знака после точки. "
   ]
  },
  {
   "cell_type": "code",
   "execution_count": 6,
   "metadata": {},
   "outputs": [
    {
     "name": "stdout",
     "output_type": "stream",
     "text": [
      "Increase of click proportion for exp group by 1.614% of control group clicks\n"
     ]
    }
   ],
   "source": [
    "exp = browser[browser.slot == 'exp']\n",
    "control = browser[browser.slot == 'control']\n",
    "\n",
    "exp_clicks_total = exp.n_clicks.sum()\n",
    "control_clicks_total = control.n_clicks.sum()\n",
    "\n",
    "proportion_clicks = (exp_clicks_total / control_clicks_total - 1) * 100\n",
    "print(f'Increase of click proportion for exp group by {proportion_clicks:.3f}% of control group clicks')"
   ]
  },
  {
   "cell_type": "markdown",
   "metadata": {},
   "source": [
    "#### 2. Давайте попробуем посмотреть более внимательно на разницу между двумя группами (control и exp) относительно количества пользовательских кликов.\n",
    "\n",
    "Для этого постройте с помощью бутстрепа 95% доверительный интервал для средних значений и медиан количества кликов в каждой из двух групп."
   ]
  },
  {
   "cell_type": "code",
   "execution_count": 7,
   "metadata": {},
   "outputs": [
    {
     "name": "stdout",
     "output_type": "stream",
     "text": [
      "Mean number of clicks for exp: 11.5840\n",
      "Mean number of clicks for control: 11.2809\n",
      "Median number of clicks for exp: 5.0\n",
      "Median number of clicks for control: 4.0\n"
     ]
    }
   ],
   "source": [
    "def get_bootstrap_samples(data, n_samples):    \n",
    "    # n_samples -> inf --> better precision    \n",
    "    indices = np.random.randint(0, len(data), (n_samples, len(data)))\n",
    "    samples = data[indices]\n",
    "    return samples\n",
    "\n",
    "def conf_int(sample, alpha=0.05):\n",
    "    boundaries = np.percentile(sample, [100 * alpha / 2., 100 * (1 - alpha / 2.)])\n",
    "    return boundaries\n",
    "\n",
    "exp_mean = exp.n_clicks.mean()\n",
    "control_mean = control.n_clicks.mean()\n",
    "\n",
    "print(f'Mean number of clicks for exp: {exp_mean:.4f}')\n",
    "print(f'Mean number of clicks for control: {control_mean:.4f}')\n",
    "\n",
    "exp_median = exp.n_clicks.median()\n",
    "control_median = control.n_clicks.median()\n",
    "\n",
    "print(f'Median number of clicks for exp: {exp_median}')\n",
    "print(f'Median number of clicks for control: {control_median}')"
   ]
  },
  {
   "cell_type": "code",
   "execution_count": 8,
   "metadata": {},
   "outputs": [
    {
     "name": "stdout",
     "output_type": "stream",
     "text": [
      "95% confidence interval for n_clicks of mean difference: [0.21295518 0.40644326]\n",
      "95% confidence interval for n_clicks of median difference: [1. 1.]\n",
      "CPU times: user 12.6 s, sys: 1.31 s, total: 13.9 s\n",
      "Wall time: 13.6 s\n"
     ]
    },
    {
     "data": {
      "image/png": "[encoded data removed]",
      "text/plain": [
       "<Figure size 1152x432 with 2 Axes>"
      ]
     },
     "metadata": {
      "needs_background": "light"
     },
     "output_type": "display_data"
    },
    {
     "data": {
      "image/png": "[encoded data removed]",
      "text/plain": [
       "<Figure size 1152x432 with 2 Axes>"
      ]
     },
     "metadata": {
      "needs_background": "light"
     },
     "output_type": "display_data"
    }
   ],
   "source": [
    "%%time\n",
    "\n",
    "exp_clicks = exp.n_clicks.values\n",
    "control_clicks = control.n_clicks.values\n",
    "\n",
    "plt.figure(figsize=(16,6))\n",
    "plt.subplot(1,2,1)\n",
    "sns.histplot(exp_clicks, bins=150, kde=True)\n",
    "plt.xlim(0, 150)\n",
    "plt.title('Exp group clicks distribution')\n",
    "plt.subplot(1,2,2)\n",
    "sns.histplot(control_clicks, bins=150, color='r', kde=True)\n",
    "plt.xlim(0, 150)\n",
    "plt.title('Control group clicks distribution')\n",
    "\n",
    "exp_samples = get_bootstrap_samples(exp_clicks, 500)\n",
    "control_samples = get_bootstrap_samples(control_clicks, 500)\n",
    "\n",
    "exp_means = np.array([np.mean(sample) for sample in exp_samples])\n",
    "exp_medians = np.array([np.median(sample) for sample in exp_samples])\n",
    "control_means = np.array([np.mean(sample) for sample in control_samples])\n",
    "control_medians = np.array([np.median(sample) for sample in control_samples])\n",
    "\n",
    "plt.figure(figsize=(16,6))\n",
    "plt.subplot(1,2,1)\n",
    "sns.histplot(exp_means, bins=30, kde=True)\n",
    "plt.title('Exp group means distribution')\n",
    "plt.subplot(1,2,2)\n",
    "sns.histplot(control_means, color='r', bins=30, kde=True)\n",
    "plt.title('Control group means distribution')\n",
    "\n",
    "diff_means = exp_means - control_means\n",
    "diff_medians = exp_medians - control_medians\n",
    "\n",
    "conf_int_means = conf_int(diff_means)\n",
    "conf_int_medians = conf_int(diff_medians)\n",
    "\n",
    "print(f'95% confidence interval for n_clicks of mean difference: {conf_int_means}')\n",
    "print(f'95% confidence interval for n_clicks of median difference: {conf_int_medians}')"
   ]
  },
  {
   "cell_type": "markdown",
   "metadata": {},
   "source": [
    "#### 3-4. Поскольку данных достаточно много (порядка полумиллиона уникальных пользователей), отличие в несколько процентов может быть не только практически значимым, но и значимым статистически. Последнее утверждение нуждается в дополнительной проверке.\n",
    "\n",
    "t-критерий Стьюдента имеет множество достоинств, и потому его достаточно часто применяют в AB экспериментах. Иногда его применение может быть необоснованно из-за сильной скошенности распределения данных.\n",
    "\n",
    "Давайте постараемся понять, когда t-критерий можно применять и как это проверить на реальных данных.\n",
    "\n",
    "Для простоты рассмотрим одновыборочный t-критерий. Его статистика имеет вид: $\\frac{\\bar{X} - \\mu}{ \\sqrt {S^2 / n}}$\n",
    "\n",
    "То есть чтобы действительно предположения t-критерия выполнялись необходимо, чтобы:\n",
    "\n",
    "- $\\bar{X}$ — среднее значение в выборке — было распределено нормально $N(\\mu,\\frac{\\sigma^2}{n})$\n",
    "- $\\frac{nS^2}{\\sigma^2}$ — несмещенная оценка дисперсии c масштабирующим коэффициентом — была распределена по хи-квадрат c n−1 степенями свободы $\\chi^2(n−1)$ \n",
    "\n",
    "Простое доказательство необходимости и достаточности этого требования можно посмотреть в самом последнем абзаце этого вопроса. Усвоение этого доказательства не обязательно для выполнения задания.\n",
    "\n",
    "Оба этих предположения можно проверить с помощью бутстрепа. Ограничимся сейчас только контрольной группой, в которой распределение кликов будем называть данными в рамках данного вопроса.\n",
    "\n",
    "Поскольку мы не знаем истинного распределения генеральной совокупности, мы можем применить бутстреп, чтобы понять, как распределены среднее значение и выборочная дисперсия. Для этого:\n",
    "\n",
    "1. Получите из данных n_boot_samples псевдовыборок.\n",
    "1. По каждой из этих выборок посчитайте среднее и сумму квадратов отклонения от выборочного среднего (control_boot_chi_squared)\n",
    "1. Для получившегося вектора средних значений из n_boot_samples постройте q-q plot с помощью <code>scipy.stats.probplot</code> для нормального распределения\n",
    "1. Для получившегося вектора сумм квадратов отклонения от выборочного среднего постройте qq-plot с помощью <code>scipy.stats.probplot</code> для хи-квадрат распределения с помощью команды:\n",
    "<center><code>scipy.stats.probplot(control_boot_chi_squared, dist=\"chi2\", sparams=(n-1), plot=plt)</code></center>\n",
    "\n",
    "Где $sparams=(n-1)$ означают число степеней свободы = длине выборки - 1.\n",
    "\n",
    "Чтобы получить такой же ответ, как у нас, зафиксируйте seed и количество псевдовыборок: \n",
    "\n",
    "<center><code>np.random.seed(0)<br>n_boot_samples = 500</code></center>\n",
    "\n",
    "В качестве ответа отметьте верные утвердения о значениях $R^2$, которые генерирует <code>scipy.stats.probplot</code> при отображении qq-графиков: одно c графика для среднего и одно с графика для выборочной суммы квадратов отклонения от выборочной суммы."
   ]
  },
  {
   "cell_type": "code",
   "execution_count": 9,
   "metadata": {},
   "outputs": [
    {
     "data": {
      "image/png": "[encoded data removed]",
      "text/plain": [
       "<Figure size 720x432 with 1 Axes>"
      ]
     },
     "metadata": {
      "needs_background": "light"
     },
     "output_type": "display_data"
    },
    {
     "data": {
      "image/png": "[encoded data removed]",
      "text/plain": [
       "<Figure size 720x432 with 1 Axes>"
      ]
     },
     "metadata": {
      "needs_background": "light"
     },
     "output_type": "display_data"
    },
    {
     "name": "stdout",
     "output_type": "stream",
     "text": [
      "CPU times: user 4.72 s, sys: 613 ms, total: 5.33 s\n",
      "Wall time: 6.4 s\n"
     ]
    }
   ],
   "source": [
    "%%time\n",
    "\n",
    "np.random.seed(0)\n",
    "n_boot_samples = 500\n",
    "\n",
    "control_samples = get_bootstrap_samples(control_clicks, n_boot_samples)\n",
    "\n",
    "control_boot_means = np.array([np.mean(sample) for sample in control_samples])\n",
    "control_boot_chi_squared = np.array([np.var(sample) for sample in control_samples])\n",
    "\n",
    "n = control_samples.shape[0]\n",
    "\n",
    "plt.figure(figsize=(10,6))\n",
    "scipy.stats.probplot(control_boot_means, plot=plt, rvalue=True)\n",
    "plt.title('Q-Q plot for mean values using bootstrep')\n",
    "plt.show()\n",
    "\n",
    "plt.figure(figsize=(10,6))\n",
    "scipy.stats.probplot(control_boot_chi_squared, dist='chi2', sparams=(n-1), plot=plt, rvalue=True)\n",
    "plt.title('Q-Q plot for variance values using bootstrep')\n",
    "plt.show()"
   ]
  },
  {
   "cell_type": "markdown",
   "metadata": {},
   "source": [
    "#### 5. Одним из возможных аналогов t-критерия, которым можно воспрользоваться, является тест Манна-Уитни. На достаточно обширном классе распределений он является асимптотически более эффективным, чем t-критерий, и при этом не требует параметрических предположений о характере распределения.\n",
    "\n",
    "Разделите выборку на две части, соответствующие control и exp группам. Преобразуйте данные к виду, чтобы каждому пользователю соответствовало суммарное значение его кликов. С помощью критерия Манна-Уитни проверьте гипотезу о равенстве средних. Что можно сказать о получившемся значении достигаемого уровня значимости?"
   ]
  },
  {
   "cell_type": "code",
   "execution_count": 10,
   "metadata": {},
   "outputs": [
    {
     "data": {
      "text/plain": [
       "MannwhitneyuResult(statistic=41184125116.0, pvalue=6.247235801369629e-75)"
      ]
     },
     "execution_count": 10,
     "metadata": {},
     "output_type": "execute_result"
    }
   ],
   "source": [
    "scipy.stats.mannwhitneyu(exp_clicks, control_clicks, alternative='two-sided')"
   ]
  },
  {
   "cell_type": "markdown",
   "metadata": {},
   "source": [
    "Согласно статистическому тесту Манна-Уитни о равенстве средних мы вынуждены отвергнуть нулевую гипотезу $H_0$, p-value ~ 0"
   ]
  },
  {
   "cell_type": "markdown",
   "metadata": {},
   "source": [
    "#### 6. Проверьте, для какого из браузеров наиболее сильно выражено отличие между количеством кликов в контрольной и экспериментальной группах.\n",
    "\n",
    "Для этого примените для каждого из срезов (по каждому из уникальных значений столбца browser) критерий Манна-Уитни между control и exp группами и сделайте поправку Холма-Бонферрони на множественную проверку с $\\alpha=0.05$.\n",
    "\n",
    "Какое заключение можно сделать исходя из полученных результатов ?\n",
    "\n",
    "В качестве ответа введите количество незначимых изменений с точки зрения результатов, полученных после введения коррекции."
   ]
  },
  {
   "cell_type": "code",
   "execution_count": 11,
   "metadata": {
    "scrolled": true
   },
   "outputs": [
    {
     "data": {
      "text/plain": [
       "array(['Browser #14', 'Browser #17', 'Browser #2', 'Browser #20',\n",
       "       'Browser #22', 'Browser #4'], dtype=object)"
      ]
     },
     "execution_count": 11,
     "metadata": {},
     "output_type": "execute_result"
    }
   ],
   "source": [
    "unique_browsers = np.unique(browser['browser'])\n",
    "unique_browsers"
   ]
  },
  {
   "cell_type": "code",
   "execution_count": 12,
   "metadata": {},
   "outputs": [
    {
     "name": "stdout",
     "output_type": "stream",
     "text": [
      "Browser #14: p-value = 0.0000\n",
      "Browser #17: p-value = 0.0748\n",
      "Browser #2: p-value = 0.0545\n",
      "Browser #20: p-value = 0.9073\n",
      "Browser #22: p-value = 0.5148\n",
      "Browser #4: p-value = 0.8152\n",
      "Number of statistically unsignificant p-values > 0.05 before correction: 5\n"
     ]
    }
   ],
   "source": [
    "browser_clicks_exp = exp.groupby(['browser', 'userID']).sum().n_clicks\n",
    "browser_clicks_ctrl = control.groupby(['browser', 'userID']).sum().n_clicks\n",
    "\n",
    "p_values = []\n",
    "\n",
    "for index, name in enumerate(unique_browsers):\n",
    "    stat, p_value = scipy.stats.mannwhitneyu(\n",
    "        browser_clicks_exp[name], browser_clicks_ctrl[name], alternative='two-sided')\n",
    "    \n",
    "    p_values.append(p_value)\n",
    "    print(f'{name}: p-value = {p_value:.4f}')\n",
    "    \n",
    "count_unsign_before = sum(p > 0.05 for p in p_values)\n",
    "print(f'Number of statistically unsignificant p-values > 0.05 before correction: {count_unsign_before}')"
   ]
  },
  {
   "cell_type": "code",
   "execution_count": 13,
   "metadata": {},
   "outputs": [
    {
     "name": "stdout",
     "output_type": "stream",
     "text": [
      "P-values after Holm correction:\n",
      " [0.         0.29920481 0.2724386  1.         1.         1.        ]\n",
      "P-values after Holm-Bonferroni correction:\n",
      " [0. 1. 1. 1. 1. 1.]\n",
      "Number of statistically unsignificant p-values > 0.05 after correction: 5\n"
     ]
    }
   ],
   "source": [
    "# Holm correction\n",
    "reject_1, p_holm, a1_1, a2_1 = multipletests(p_values, alpha=0.05, method='holm')\n",
    "print('P-values after Holm correction:\\n', np.array(p_holm))\n",
    "\n",
    "# Bonferroni correction\n",
    "reject_2, p_holm_bonf, a1_2, a2_2 = multipletests(p_holm, method='bonferroni')\n",
    "print('P-values after Holm-Bonferroni correction:\\n', np.array(p_holm_bonf))\n",
    "                                                               \n",
    "# Count statistically unsignificant p > 0.05 before holm-bonferroni correction\n",
    "count_unsign = sum(p > 0.05 for p in p_holm_bonf)\n",
    "print(f'Number of statistically unsignificant p-values > 0.05 after correction: {count_unsign}')"
   ]
  },
  {
   "cell_type": "markdown",
   "metadata": {},
   "source": [
    "#### 7. Для каждого браузера в каждой из двух групп (control и exp) посчитайте долю запросов, в которых пользователь не кликнул ни разу. Это можно сделать, поделив сумму значений n_nonclk_queries на сумму значений n_queries. Умножив это значение на 100, получим процент некликнутых запросов, который можно легче проинтерпретировать.\n",
    "\n",
    "Сходятся ли результаты проведенного Вами анализа с показателем процента некликнутых запросов ? "
   ]
  },
  {
   "cell_type": "code",
   "execution_count": 14,
   "metadata": {},
   "outputs": [
    {
     "data": {
      "text/html": [
       "<div>\n",
       "<style scoped>\n",
       "    .dataframe tbody tr th:only-of-type {\n",
       "        vertical-align: middle;\n",
       "    }\n",
       "\n",
       "    .dataframe tbody tr th {\n",
       "        vertical-align: top;\n",
       "    }\n",
       "\n",
       "    .dataframe thead th {\n",
       "        text-align: right;\n",
       "    }\n",
       "</style>\n",
       "<table border=\"1\" class=\"dataframe\">\n",
       "  <thead>\n",
       "    <tr style=\"text-align: right;\">\n",
       "      <th></th>\n",
       "      <th>userID</th>\n",
       "      <th>n_clicks</th>\n",
       "      <th>n_queries</th>\n",
       "      <th>n_nonclk_queries</th>\n",
       "    </tr>\n",
       "    <tr>\n",
       "      <th>browser</th>\n",
       "      <th></th>\n",
       "      <th></th>\n",
       "      <th></th>\n",
       "      <th></th>\n",
       "    </tr>\n",
       "  </thead>\n",
       "  <tbody>\n",
       "    <tr>\n",
       "      <th>Browser #14</th>\n",
       "      <td>14903639817</td>\n",
       "      <td>294556</td>\n",
       "      <td>282606</td>\n",
       "      <td>123656</td>\n",
       "    </tr>\n",
       "    <tr>\n",
       "      <th>Browser #17</th>\n",
       "      <td>4624596106</td>\n",
       "      <td>266285</td>\n",
       "      <td>210123</td>\n",
       "      <td>77614</td>\n",
       "    </tr>\n",
       "    <tr>\n",
       "      <th>Browser #2</th>\n",
       "      <td>16998146364</td>\n",
       "      <td>560109</td>\n",
       "      <td>548019</td>\n",
       "      <td>246514</td>\n",
       "    </tr>\n",
       "    <tr>\n",
       "      <th>Browser #20</th>\n",
       "      <td>4896313412</td>\n",
       "      <td>223212</td>\n",
       "      <td>187283</td>\n",
       "      <td>72998</td>\n",
       "    </tr>\n",
       "    <tr>\n",
       "      <th>Browser #22</th>\n",
       "      <td>21217798358</td>\n",
       "      <td>858666</td>\n",
       "      <td>743156</td>\n",
       "      <td>296177</td>\n",
       "    </tr>\n",
       "    <tr>\n",
       "      <th>Browser #4</th>\n",
       "      <td>22195973421</td>\n",
       "      <td>1058995</td>\n",
       "      <td>1011250</td>\n",
       "      <td>456508</td>\n",
       "    </tr>\n",
       "  </tbody>\n",
       "</table>\n",
       "</div>"
      ],
      "text/plain": [
       "                  userID  n_clicks  n_queries  n_nonclk_queries\n",
       "browser                                                        \n",
       "Browser #14  14903639817    294556     282606            123656\n",
       "Browser #17   4624596106    266285     210123             77614\n",
       "Browser #2   16998146364    560109     548019            246514\n",
       "Browser #20   4896313412    223212     187283             72998\n",
       "Browser #22  21217798358    858666     743156            296177\n",
       "Browser #4   22195973421   1058995    1011250            456508"
      ]
     },
     "execution_count": 14,
     "metadata": {},
     "output_type": "execute_result"
    }
   ],
   "source": [
    "exp.groupby(['browser']).sum()"
   ]
  },
  {
   "cell_type": "code",
   "execution_count": 15,
   "metadata": {},
   "outputs": [
    {
     "data": {
      "text/html": [
       "<div>\n",
       "<style scoped>\n",
       "    .dataframe tbody tr th:only-of-type {\n",
       "        vertical-align: middle;\n",
       "    }\n",
       "\n",
       "    .dataframe tbody tr th {\n",
       "        vertical-align: top;\n",
       "    }\n",
       "\n",
       "    .dataframe thead th {\n",
       "        text-align: right;\n",
       "    }\n",
       "</style>\n",
       "<table border=\"1\" class=\"dataframe\">\n",
       "  <thead>\n",
       "    <tr style=\"text-align: right;\">\n",
       "      <th></th>\n",
       "      <th>userID</th>\n",
       "      <th>n_clicks</th>\n",
       "      <th>n_queries</th>\n",
       "      <th>n_nonclk_queries</th>\n",
       "    </tr>\n",
       "    <tr>\n",
       "      <th>browser</th>\n",
       "      <th></th>\n",
       "      <th></th>\n",
       "      <th></th>\n",
       "      <th></th>\n",
       "    </tr>\n",
       "  </thead>\n",
       "  <tbody>\n",
       "    <tr>\n",
       "      <th>Browser #14</th>\n",
       "      <td>15167527449</td>\n",
       "      <td>207229</td>\n",
       "      <td>279998</td>\n",
       "      <td>161252</td>\n",
       "    </tr>\n",
       "    <tr>\n",
       "      <th>Browser #17</th>\n",
       "      <td>4688717420</td>\n",
       "      <td>266732</td>\n",
       "      <td>208921</td>\n",
       "      <td>75837</td>\n",
       "    </tr>\n",
       "    <tr>\n",
       "      <th>Browser #2</th>\n",
       "      <td>17275496449</td>\n",
       "      <td>565964</td>\n",
       "      <td>566239</td>\n",
       "      <td>260259</td>\n",
       "    </tr>\n",
       "    <tr>\n",
       "      <th>Browser #20</th>\n",
       "      <td>4971658893</td>\n",
       "      <td>225897</td>\n",
       "      <td>193752</td>\n",
       "      <td>78548</td>\n",
       "    </tr>\n",
       "    <tr>\n",
       "      <th>Browser #22</th>\n",
       "      <td>21382390812</td>\n",
       "      <td>879810</td>\n",
       "      <td>777135</td>\n",
       "      <td>315470</td>\n",
       "    </tr>\n",
       "    <tr>\n",
       "      <th>Browser #4</th>\n",
       "      <td>22297629185</td>\n",
       "      <td>1064395</td>\n",
       "      <td>1060771</td>\n",
       "      <td>498254</td>\n",
       "    </tr>\n",
       "  </tbody>\n",
       "</table>\n",
       "</div>"
      ],
      "text/plain": [
       "                  userID  n_clicks  n_queries  n_nonclk_queries\n",
       "browser                                                        \n",
       "Browser #14  15167527449    207229     279998            161252\n",
       "Browser #17   4688717420    266732     208921             75837\n",
       "Browser #2   17275496449    565964     566239            260259\n",
       "Browser #20   4971658893    225897     193752             78548\n",
       "Browser #22  21382390812    879810     777135            315470\n",
       "Browser #4   22297629185   1064395    1060771            498254"
      ]
     },
     "execution_count": 15,
     "metadata": {},
     "output_type": "execute_result"
    }
   ],
   "source": [
    "control.groupby(['browser']).sum()"
   ]
  },
  {
   "cell_type": "code",
   "execution_count": 16,
   "metadata": {},
   "outputs": [
    {
     "name": "stdout",
     "output_type": "stream",
     "text": [
      "Browser #14 - Exp: 43.7556%, Control: 57.5904%\n",
      "Browser #17 - Exp: 36.9374%, Control: 36.2994%\n",
      "Browser #2 - Exp: 44.9827%, Control: 45.9627%\n",
      "Browser #20 - Exp: 38.9774%, Control: 40.5405%\n",
      "Browser #22 - Exp: 39.8539%, Control: 40.5940%\n",
      "Browser #4 - Exp: 45.1429%, Control: 46.9709%\n"
     ]
    }
   ],
   "source": [
    "nonclk_queries_exp = exp.groupby(['browser']).sum().n_nonclk_queries\n",
    "n_queries_exp = exp.groupby(['browser']).sum().n_queries\n",
    "never_click_exp = nonclk_queries_exp * 100 / n_queries_exp\n",
    "\n",
    "nonclk_queries_control = control.groupby(['browser']).sum().n_nonclk_queries\n",
    "n_queries_control = control.groupby(['browser']).sum().n_queries\n",
    "never_click_control = nonclk_queries_control * 100 / n_queries_control\n",
    "\n",
    "for index, name in enumerate(unique_browsers):\n",
    "    print(f'{name} - Exp: {never_click_exp.loc[name]:.4f}%, Control: {never_click_control.loc[name]:.4f}%')"
   ]
  }
 ],
 "metadata": {
  "kernelspec": {
   "display_name": "Python 3",
   "language": "python",
   "name": "python3"
  },
  "language_info": {
   "codemirror_mode": {
    "name": "ipython",
    "version": 3
   },
   "file_extension": ".py",
   "mimetype": "text/x-python",
   "name": "python",
   "nbconvert_exporter": "python",
   "pygments_lexer": "ipython3",
   "version": "3.8.5"
  }
 },
 "nbformat": 4,
 "nbformat_minor": 4
}
