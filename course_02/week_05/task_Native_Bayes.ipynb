{
 "cells": [
  {
   "cell_type": "code",
   "execution_count": 1,
   "metadata": {},
   "outputs": [],
   "source": [
    "from sklearn import datasets\n",
    "from sklearn.model_selection import cross_val_score\n",
    "from sklearn.naive_bayes import BernoulliNB, MultinomialNB, GaussianNB\n",
    "\n",
    "import numpy as np"
   ]
  },
  {
   "cell_type": "markdown",
   "metadata": {},
   "source": [
    "<p><i>Загрузите датасеты digits и breast_cancer из sklearn.datasets. Выведите несколько строчек из обучающих выборок и посмотрите на признаки. С помощью sklearn.cross_validation.cross_val_score c настройками по умолчанию и вызова метода mean() у возвращаемого этой функцией numpy.ndarray, сравните качество работы наивных байесовских классификаторов на этих двух датасетах. Для сравнения предлагается использовать BernoulliNB, MultinomialNB и GaussianNB. Насколько полученные результаты согласуются с рекомендациями из лекций?</i></p>\n",
    "\n",
    "* <b>Вопрос 1</b>\n",
    "\n",
    "  Каким получилось максимальное качество классификации на датасете breast_cancer?\n",
    "\n",
    "\n",
    "* <b>Вопрос 2</b>\n",
    "\n",
    "  Каким получилось максимальное качество классификации на датасете digits?\n",
    "\n",
    "\n",
    "* <b>Вопрос 3</b>\n",
    "\n",
    "  Выберите верные утверждения и запишите их номера через пробел (в порядке возрастания номера):\n",
    "\n",
    "1) На вещественных признаках лучше всего сработал наивный байесовский классификатор с распределением Бернулли\n",
    "\n",
    "2) На вещественных признаках лучше всего сработал наивный байесовский классификатор с мультиномиальным распределением\n",
    "\n",
    "3) Мультиномиальное распределение лучше показало себя на выборке с целыми неотрицательными значениями признаков\n",
    "\n",
    "4) На вещественных признаках лучше всего сработало нормальное распределение"
   ]
  },
  {
   "cell_type": "code",
   "execution_count": 2,
   "metadata": {},
   "outputs": [],
   "source": [
    "X_digits, y_digits  = datasets.load_digits(return_X_y=True)\n",
    "X_cancer, y_cancer  = datasets.load_breast_cancer(return_X_y=True)"
   ]
  },
  {
   "cell_type": "code",
   "execution_count": 3,
   "metadata": {},
   "outputs": [
    {
     "name": "stdout",
     "output_type": "stream",
     "text": [
      "Digits dataset Bernoulli clf score: 0.8241736304549674\n",
      "Cancer dataset Bernoulli clf score: 0.6274181027790716\n"
     ]
    }
   ],
   "source": [
    "bernoulli_bayes_clf = BernoulliNB()\n",
    "\n",
    "bernoulli_digits_score = np.mean(cross_val_score(bernoulli_bayes_clf, X_digits, y_digits))\n",
    "print(f'Digits dataset Bernoulli clf score: {bernoulli_digits_score}')\n",
    "\n",
    "bernoulli_cancer_score = np.mean(cross_val_score(bernoulli_bayes_clf, X_cancer, y_cancer))\n",
    "print(f'Cancer dataset Bernoulli clf score: {bernoulli_cancer_score}')"
   ]
  },
  {
   "cell_type": "code",
   "execution_count": 4,
   "metadata": {},
   "outputs": [
    {
     "name": "stdout",
     "output_type": "stream",
     "text": [
      "Digits dataset Multinomial clf score: 0.8703497369235531\n",
      "Cancer dataset Multinomial clf score: 0.8963204471355379\n"
     ]
    }
   ],
   "source": [
    "multinominal_bayes_clf = MultinomialNB()\n",
    "\n",
    "multinominal_digits_score = np.mean(cross_val_score(multinominal_bayes_clf, X_digits, y_digits))\n",
    "print(f'Digits dataset Multinomial clf score: {multinominal_digits_score}')\n",
    "\n",
    "multinominal_cancer_score = np.mean(cross_val_score(multinominal_bayes_clf, X_cancer, y_cancer))\n",
    "print(f'Cancer dataset Multinomial clf score: {multinominal_cancer_score}')"
   ]
  },
  {
   "cell_type": "code",
   "execution_count": 5,
   "metadata": {},
   "outputs": [
    {
     "name": "stdout",
     "output_type": "stream",
     "text": [
      "Digits dataset Gaussian clf score: 0.8069281956050759\n",
      "Cancer dataset Gaussian clf score: 0.9385188635305075\n"
     ]
    }
   ],
   "source": [
    "gaussian_bayes_clf = GaussianNB()\n",
    "\n",
    "gaussian_digits_score = np.mean(cross_val_score(gaussian_bayes_clf, X_digits, y_digits))\n",
    "print(f'Digits dataset Gaussian clf score: {gaussian_digits_score}')\n",
    "\n",
    "gaussian_cancer_score = np.mean(cross_val_score(gaussian_bayes_clf, X_cancer, y_cancer))\n",
    "print(f'Cancer dataset Gaussian clf score: {gaussian_cancer_score}')"
   ]
  },
  {
   "cell_type": "code",
   "execution_count": 6,
   "metadata": {},
   "outputs": [],
   "source": [
    "def write_answer(file_name, answer):\n",
    "    with open(file_name, 'w') as fout:\n",
    "        fout.write(str(answer))\n",
    "        fout.close()\n",
    "\n",
    "write_answer('sumbission_Bayes_1.txt', max(bernoulli_cancer_score, multinominal_cancer_score, gaussian_cancer_score))\n",
    "write_answer('sumbission_Bayes_2.txt', max(bernoulli_digits_score, multinominal_digits_score, gaussian_digits_score))\n",
    "write_answer('sumbission_Bayes_3.txt', '3 4')"
   ]
  }
 ],
 "metadata": {
  "kernelspec": {
   "display_name": "Python 3",
   "language": "python",
   "name": "python3"
  },
  "language_info": {
   "codemirror_mode": {
    "name": "ipython",
    "version": 3
   },
   "file_extension": ".py",
   "mimetype": "text/x-python",
   "name": "python",
   "nbconvert_exporter": "python",
   "pygments_lexer": "ipython3",
   "version": "3.6.9"
  }
 },
 "nbformat": 4,
 "nbformat_minor": 4
}
