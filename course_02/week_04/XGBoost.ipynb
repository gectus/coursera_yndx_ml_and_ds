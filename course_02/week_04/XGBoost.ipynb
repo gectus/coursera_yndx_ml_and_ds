{
 "cells": [
  {
   "cell_type": "code",
   "execution_count": 1,
   "metadata": {},
   "outputs": [
    {
     "name": "stderr",
     "output_type": "stream",
     "text": [
      "/usr/lib/python3.6/importlib/_bootstrap.py:219: RuntimeWarning: numpy.ufunc size changed, may indicate binary incompatibility. Expected 192 from C header, got 216 from PyObject\n",
      "  return f(*args, **kwds)\n",
      "/usr/lib/python3.6/importlib/_bootstrap.py:219: RuntimeWarning: numpy.ufunc size changed, may indicate binary incompatibility. Expected 216, got 192\n",
      "  return f(*args, **kwds)\n",
      "/usr/lib/python3.6/importlib/_bootstrap.py:219: RuntimeWarning: numpy.ufunc size changed, may indicate binary incompatibility. Expected 192 from C header, got 216 from PyObject\n",
      "  return f(*args, **kwds)\n",
      "/usr/lib/python3.6/importlib/_bootstrap.py:219: RuntimeWarning: numpy.ufunc size changed, may indicate binary incompatibility. Expected 192 from C header, got 216 from PyObject\n",
      "  return f(*args, **kwds)\n",
      "/usr/lib/python3.6/importlib/_bootstrap.py:219: RuntimeWarning: numpy.ufunc size changed, may indicate binary incompatibility. Expected 192 from C header, got 216 from PyObject\n",
      "  return f(*args, **kwds)\n"
     ]
    }
   ],
   "source": [
    "from sklearn import datasets, model_selection, metrics, tree\n",
    "\n",
    "import xgboost as xgb\n",
    "import numpy as np\n",
    "import matplotlib.pyplot as plt\n",
    "\n",
    "plt.style.use('ggplot')\n",
    "\n",
    "%matplotlib inline"
   ]
  },
  {
   "cell_type": "markdown",
   "metadata": {},
   "source": [
    "#### В этом задании будет использоваться датасет boston из sklearn.datasets. Оставьте последние 25% объектов для контроля качества, разделив X и y на X_train, y_train и X_test, y_test.\n",
    "Целью задания будет реализовать простой вариант градиентного бустинга над регрессионными деревьями для случая квадратичной функции потерь."
   ]
  },
  {
   "cell_type": "code",
   "execution_count": 2,
   "metadata": {},
   "outputs": [],
   "source": [
    "X, y = datasets.load_boston(return_X_y=True)"
   ]
  },
  {
   "cell_type": "code",
   "execution_count": 3,
   "metadata": {},
   "outputs": [
    {
     "data": {
      "text/plain": [
       "380"
      ]
     },
     "execution_count": 3,
     "metadata": {},
     "output_type": "execute_result"
    }
   ],
   "source": [
    "t = round(X.shape[0] * 0.75)\n",
    "t"
   ]
  },
  {
   "cell_type": "code",
   "execution_count": 4,
   "metadata": {},
   "outputs": [],
   "source": [
    "X_train, X_test = X[:t], X[t:]\n",
    "y_train, y_test = y[:t], y[t:]"
   ]
  },
  {
   "cell_type": "markdown",
   "metadata": {},
   "source": [
    "1. Заведите массив для объектов DecisionTreeRegressor (будем их использовать в качестве базовых алгоритмов) и для вещественных чисел (это будут коэффициенты перед базовыми алгоритмами). В цикле обучите последовательно 50 решающих деревьев с параметрами max_depth=5 и random_state=42 (остальные параметры - по умолчанию). В бустинге зачастую используются сотни и тысячи деревьев, но мы ограничимся 50, чтобы алгоритм работал быстрее, и его было проще отлаживать (т.к. цель задания разобраться, как работает метод). Каждое дерево должно обучаться на одном и том же множестве объектов, но ответы, которые учится прогнозировать дерево, будут меняться в соответствие с полученным в задании 1 правилом. Попробуйте для начала всегда брать коэффициент равным 0.9. Обычно оправдано выбирать коэффициент значительно меньшим - порядка 0.05 или 0.1, но т.к. в нашем учебном примере на стандартном датасете будет всего 50 деревьев, возьмем для начала шаг побольше."
   ]
  },
  {
   "cell_type": "code",
   "execution_count": 5,
   "metadata": {},
   "outputs": [
    {
     "name": "stdout",
     "output_type": "stream",
     "text": [
      "Initial RMSE Error: 4.674470252481672\n",
      "Final RMSE Error: 5.4551393760319415\n",
      "CPU times: user 41.5 s, sys: 41.8 ms, total: 41.5 s\n",
      "Wall time: 42.1 s\n"
     ]
    }
   ],
   "source": [
    "%%time\n",
    "n_trees = 50\n",
    "\n",
    "trees = []\n",
    "gammas = []\n",
    "\n",
    "def gbm_predict(X):\n",
    "    return [sum([coeff * algo.predict([x])[0] for algo, coeff in zip\n",
    "                 (trees, gammas)]) for x in X]\n",
    "\n",
    "clf = tree.DecisionTreeRegressor(max_depth=5, random_state=42)    \n",
    "clf.fit(X_train, y_train)\n",
    "\n",
    "trees.append(clf)\n",
    "gammas.append(0.9)\n",
    "\n",
    "RMSE = metrics.mean_squared_error(y_test, gbm_predict(X_test)) ** 0.5\n",
    "print(f'Initial RMSE Error: {RMSE}')\n",
    "                                   \n",
    "for i in range(n_trees - 1):\n",
    "    s = y_train - gbm_predict(X_train)\n",
    "\n",
    "    clf = tree.DecisionTreeRegressor(max_depth=5, random_state=42)    \n",
    "    clf.fit(X_train, s)\n",
    "                                   \n",
    "    trees.append(clf)\n",
    "    gammas.append(0.9)\n",
    "    \n",
    "    RMSE = metrics.mean_squared_error(y_test, gbm_predict(X_test)) ** 0.5\n",
    "    \n",
    "print(f'Final RMSE Error: {RMSE}')"
   ]
  },
  {
   "cell_type": "code",
   "execution_count": 6,
   "metadata": {},
   "outputs": [],
   "source": [
    "with open('submission_XGBoost_1.txt', 'w') as f:\n",
    "    f.write(str(RMSE))\n",
    "    f.close()"
   ]
  },
  {
   "cell_type": "markdown",
   "metadata": {},
   "source": [
    "2. Вас может также беспокоить, что при движении с постоянным шагом вблизи минимума ошибки ответы на обучающей выборке меняются слишком резко, перескакивая через минимум. Попробуйте уменьшать вес перед каждым алгоритмом с каждой следующей итерацией по формуле 0.9 / (1.0 + i), где i - номер итерации (от 0 до 49). Используйте качество работы алгоритма как ответ в пункте 3. В реальности часто применяется следующая стратегия выбора шага: как только выбран алгоритм, подберем коэффициент перед ним численным методом оптимизации таким образом, чтобы отклонение от правильных ответов было минимальным. Мы не будем предлагать вам реализовать это для выполнения задания, но рекомендуем попробовать разобраться с такой стратегией и реализовать ее при случае для себя."
   ]
  },
  {
   "cell_type": "code",
   "execution_count": 7,
   "metadata": {},
   "outputs": [
    {
     "name": "stdout",
     "output_type": "stream",
     "text": [
      "Initial RMSE Error: 4.674470252481672\n",
      "Final RMSE Error: 5.167014791810496\n",
      "CPU times: user 36.2 s, sys: 40.3 ms, total: 36.2 s\n",
      "Wall time: 36.3 s\n"
     ]
    }
   ],
   "source": [
    "%%time\n",
    "n_trees = 50\n",
    "\n",
    "trees = []\n",
    "gammas = []\n",
    "\n",
    "def gbm_predict(X):\n",
    "    return [sum([coeff * algo.predict([x])[0] for algo, coeff in zip\n",
    "                 (trees, gammas)]) for x in X]\n",
    "\n",
    "clf = tree.DecisionTreeRegressor(max_depth=5, random_state=42)    \n",
    "clf.fit(X_train, y_train)\n",
    "\n",
    "trees.append(clf)\n",
    "gammas.append(0.9)\n",
    "\n",
    "RMSE = metrics.mean_squared_error(y_test, gbm_predict(X_test)) ** 0.5\n",
    "print(f'Initial RMSE Error: {RMSE}')\n",
    "                                   \n",
    "for i in range(n_trees - 1):\n",
    "    s = y_train - gbm_predict(X_train)\n",
    "\n",
    "    clf = tree.DecisionTreeRegressor(max_depth=5, random_state=42)    \n",
    "    clf.fit(X_train, s)\n",
    "                                   \n",
    "    trees.append(clf)\n",
    "    gammas.append(0.9 / (1.0 + i))\n",
    "    \n",
    "    RMSE = metrics.mean_squared_error(y_test, gbm_predict(X_test)) ** 0.5\n",
    "    \n",
    "print(f'Final RMSE Error: {RMSE}')"
   ]
  },
  {
   "cell_type": "markdown",
   "metadata": {},
   "source": [
    "Обратите внимание, что более аккуратный выбор шага позволил понизить RMSE на тестовой выборке (если нет - попробуйте перезапустить алгоритм несколько раз - в среднем качество должно было улучшиться). Однако не стоит относиться к этому результату слишком доверчиво - небольшие изменения в формуле вычисления величины шага могут легко \"сломать\" этот эффект. Выбор хорошего шага в градиентном спуске всегда достаточно непростой вопрос - остается только порадоваться, что почти всегда можно использовать готовые реализации из библиотек."
   ]
  },
  {
   "cell_type": "code",
   "execution_count": 8,
   "metadata": {},
   "outputs": [],
   "source": [
    "with open('submission_XGBoost_2.txt', 'w') as f:\n",
    "    f.write(str(RMSE))\n",
    "    f.close()"
   ]
  },
  {
   "cell_type": "markdown",
   "metadata": {},
   "source": [
    "3. Реализованный вами метод - градиентный бустинг над деревьями - очень популярен в машинном обучении. Он представлен как в самой библиотеке sklearn, так и в сторонней библиотеке XGBoost, которая имеет свой питоновский интерфейс. На практике XGBoost работает заметно лучше GradientBoostingRegressor из sklearn, но для этого задания вы можете использовать любую реализацию. Исследуйте, переобучается ли градиентный бустинг с ростом числа итераций (и подумайте, почему), а также с ростом глубины деревьев. На основе наблюдений выпишите через пробел номера правильных из приведенных ниже утверждений в порядке возрастания номера (это будет ответ в п.4):\n",
    "\n",
    "1) С увеличением числа деревьев, начиная с некоторого момента, качество работы градиентного бустинга не меняется существенно.\n",
    "\n",
    "2) С увеличением числа деревьев, начиная с некоторого момента, градиентный бустинг начинает переобучаться.\n",
    "\n",
    "3) С ростом глубины деревьев, начиная с некоторого момента, качество работы градиентного бустинга на тестовой выборке начинает ухудшаться\n",
    "\n",
    "4) С ростом глубины деревьев, начиная с некоторого момента, качество работы градиентного бустинга перестает существенно изменяться"
   ]
  },
  {
   "cell_type": "code",
   "execution_count": 9,
   "metadata": {},
   "outputs": [
    {
     "data": {
      "image/png": "[encoded data removed]",
      "text/plain": [
       "<Figure size 432x288 with 1 Axes>"
      ]
     },
     "metadata": {
      "needs_background": "light"
     },
     "output_type": "display_data"
    },
    {
     "data": {
      "image/png": "[encoded data removed]",
      "text/plain": [
       "<Figure size 432x288 with 1 Axes>"
      ]
     },
     "metadata": {
      "needs_background": "light"
     },
     "output_type": "display_data"
    },
    {
     "name": "stdout",
     "output_type": "stream",
     "text": [
      "CPU times: user 7.6 s, sys: 359 ms, total: 7.96 s\n",
      "Wall time: 2.08 s\n"
     ]
    }
   ],
   "source": [
    "%%time\n",
    "\n",
    "n_trees = range(1, 100, 2)\n",
    "max_depth = range(1, 50, 2)\n",
    "\n",
    "xgb_scores_test = []\n",
    "xgb_scores_train = []\n",
    "\n",
    "for n in n_trees:\n",
    "    clf = xgb.XGBRegressor(learning_rate=0.1, max_depth=5, n_estimators=n, min_child_weight=3)\n",
    "    clf.fit(X_train, y_train)\n",
    "    predict = clf.predict(X_test)\n",
    "    predict_train = clf.predict(X_train)\n",
    "    RMSE_test = metrics.mean_squared_error(y_test, predict) ** 0.5\n",
    "    RMSE_train = metrics.mean_squared_error(y_train, predict_train) ** 0.5\n",
    "\n",
    "    xgb_scores_test.append(RMSE_test)\n",
    "    xgb_scores_train.append(RMSE_train)\n",
    "    \n",
    "plt.plot(n_trees, xgb_scores_train, label='train')\n",
    "plt.plot(n_trees, xgb_scores_test, label='test')\n",
    "plt.xlabel('n_estimators')\n",
    "plt.ylabel('score')\n",
    "plt.legend(loc='upper left')\n",
    "plt.show()\n",
    "\n",
    "xgb_scores_depth_test = []\n",
    "xgb_scores_depth_train = []\n",
    "\n",
    "for depth in max_depth:\n",
    "    clf = xgb.XGBRegressor(learning_rate=0.1, max_depth=depth, n_estimators=50, min_child_weight=3)\n",
    "    clf.fit(X_train, y_train)\n",
    "    predict = clf.predict(X_test)\n",
    "    predict_train = clf.predict(X_train)\n",
    "    RMSE_test = metrics.mean_squared_error(y_test, predict) ** 0.5\n",
    "    RMSE_train = metrics.mean_squared_error(y_train, predict_train) ** 0.5\n",
    "\n",
    "    xgb_scores_depth_test.append(RMSE_test)\n",
    "    xgb_scores_depth_train.append(RMSE_train)\n",
    "    \n",
    "plt.plot(max_depth, xgb_scores_depth_train, label='train')\n",
    "plt.plot(max_depth, xgb_scores_depth_test, label='test')\n",
    "plt.xlabel('max_depth')\n",
    "plt.ylabel('score')\n",
    "plt.legend(loc='upper left')\n",
    "plt.show()"
   ]
  },
  {
   "cell_type": "markdown",
   "metadata": {},
   "source": [
    "В самом деле, градиентный бустинг все больше подгоняется под данные с ростом числа деревьев, а рост глубины деревьев только ускоряет этот процесс. Начиная с некоторого момента алгоритм будет все больше переобучаться."
   ]
  },
  {
   "cell_type": "code",
   "execution_count": 10,
   "metadata": {},
   "outputs": [],
   "source": [
    "with open('submission_XGBoost_3.txt', 'w') as f:\n",
    "    f.write('2 3')\n",
    "    f.close()"
   ]
  },
  {
   "cell_type": "markdown",
   "metadata": {},
   "source": [
    "4. Сравните получаемое с помощью градиентного бустинга качество с качеством работы линейной регрессии. Для этого обучите LinearRegression из sklearn.linear_model (с параметрами по умолчанию) на обучающей выборке и оцените для прогнозов полученного алгоритма на тестовой выборке RMSE. Полученное качество - ответ в пункте 5. В данном примере качество работы простой модели должно было оказаться хуже, но не стоит забывать, что так бывает не всегда. В заданиях к этому курсу вы еще встретите пример обратной ситуации."
   ]
  },
  {
   "cell_type": "code",
   "execution_count": 11,
   "metadata": {},
   "outputs": [
    {
     "name": "stdout",
     "output_type": "stream",
     "text": [
      "Linear Regression RMSE Error: 7.819688142087423\n",
      "XGBoost RMSE Error: 5.167014791810495\n"
     ]
    }
   ],
   "source": [
    "from sklearn.linear_model import LinearRegression\n",
    "\n",
    "clf = LinearRegression()\n",
    "clf.fit(X_train, y_train)\n",
    "\n",
    "predict = clf.predict(X_test)\n",
    "\n",
    "RMSE = metrics.mean_squared_error(y_test, predict) ** 0.5\n",
    "\n",
    "print(f'Linear Regression RMSE Error: {RMSE}')\n",
    "print(f'XGBoost RMSE Error: {5.167014791810495}')\n",
    "\n",
    "with open('submission_XGBoost_4.txt', 'w') as f:\n",
    "    f.write(str(RMSE))\n",
    "    f.close()"
   ]
  },
  {
   "cell_type": "markdown",
   "metadata": {},
   "source": [
    "Качество работы простого метода (линейной регрессии) оказалось хуже. Этот результат в некоторой степени завораживает: всего 1 деревьев, каждое из которых в каждом своем листе оценивает целевую зависимость некоторой константой, уже решили задачу регрессии лучше, чем линейная модель."
   ]
  }
 ],
 "metadata": {
  "kernelspec": {
   "display_name": "Python 3",
   "language": "python",
   "name": "python3"
  },
  "language_info": {
   "codemirror_mode": {
    "name": "ipython",
    "version": 3
   },
   "file_extension": ".py",
   "mimetype": "text/x-python",
   "name": "python",
   "nbconvert_exporter": "python",
   "pygments_lexer": "ipython3",
   "version": "3.6.9"
  }
 },
 "nbformat": 4,
 "nbformat_minor": 4
}
